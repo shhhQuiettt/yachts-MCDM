{
  "cells": [
    {
      "cell_type": "markdown",
      "metadata": {
        "id": "U877GvodNQr4"
      },
      "source": [
        "# Introduction\n",
        "In this tutorial, we will learn how to use the PuLP library in Python to solve linear programming problems. Linear programming is a method to achieve the best outcome in a mathematical model whose requirements are represented by linear constraints."
      ]
    },
    {
      "cell_type": "code",
      "execution_count": 2,
      "metadata": {
        "id": "paVEe0Z9NQsB"
      },
      "outputs": [
        {
          "name": "stdout",
          "output_type": "stream",
          "text": [
            "Collecting pulp\n",
            "  Downloading pulp-3.1.1-py3-none-any.whl.metadata (1.3 kB)\n",
            "Downloading pulp-3.1.1-py3-none-any.whl (16.4 MB)\n",
            "\u001b[2K   \u001b[91m━━━━━━━━━━━━━━━━━━━━━━━━\u001b[0m\u001b[90m╺\u001b[0m\u001b[90m━━━━━━━━━━━━━━━\u001b[0m \u001b[32m10.0/16.4 MB\u001b[0m \u001b[31m1.3 MB/s\u001b[0m eta \u001b[36m0:00:05\u001b[0m\n",
            "\u001b[?25h\n",
            "\u001b[1m[\u001b[0m\u001b[34;49mnotice\u001b[0m\u001b[1;39;49m]\u001b[0m\u001b[39;49m A new release of pip is available: \u001b[0m\u001b[31;49m24.3.1\u001b[0m\u001b[39;49m -> \u001b[0m\u001b[32;49m25.0.1\u001b[0m\n",
            "\u001b[1m[\u001b[0m\u001b[34;49mnotice\u001b[0m\u001b[1;39;49m]\u001b[0m\u001b[39;49m To update, run: \u001b[0m\u001b[32;49mpip install --upgrade pip\u001b[0m\n",
            "\u001b[31mERROR: Exception:\n",
            "Traceback (most recent call last):\n",
            "  File \"/home/wojtek/Documents/uczelnia/decision_analysis/yachts-MCDM/.venv/lib/python3.13/site-packages/pip/_vendor/urllib3/response.py\", line 438, in _error_catcher\n",
            "    yield\n",
            "  File \"/home/wojtek/Documents/uczelnia/decision_analysis/yachts-MCDM/.venv/lib/python3.13/site-packages/pip/_vendor/urllib3/response.py\", line 561, in read\n",
            "    data = self._fp_read(amt) if not fp_closed else b\"\"\n",
            "           ~~~~~~~~~~~~~^^^^^\n",
            "  File \"/home/wojtek/Documents/uczelnia/decision_analysis/yachts-MCDM/.venv/lib/python3.13/site-packages/pip/_vendor/urllib3/response.py\", line 527, in _fp_read\n",
            "    return self._fp.read(amt) if amt is not None else self._fp.read()\n",
            "           ~~~~~~~~~~~~~^^^^^\n",
            "  File \"/home/wojtek/Documents/uczelnia/decision_analysis/yachts-MCDM/.venv/lib/python3.13/site-packages/pip/_vendor/cachecontrol/filewrapper.py\", line 98, in read\n",
            "    data: bytes = self.__fp.read(amt)\n",
            "                  ~~~~~~~~~~~~~~^^^^^\n",
            "  File \"/usr/local/lib/python3.13/http/client.py\", line 479, in read\n",
            "    s = self.fp.read(amt)\n",
            "  File \"/usr/local/lib/python3.13/socket.py\", line 719, in readinto\n",
            "    return self._sock.recv_into(b)\n",
            "           ~~~~~~~~~~~~~~~~~~~~^^^\n",
            "  File \"/usr/local/lib/python3.13/ssl.py\", line 1304, in recv_into\n",
            "    return self.read(nbytes, buffer)\n",
            "           ~~~~~~~~~^^^^^^^^^^^^^^^^\n",
            "  File \"/usr/local/lib/python3.13/ssl.py\", line 1138, in read\n",
            "    return self._sslobj.read(len, buffer)\n",
            "           ~~~~~~~~~~~~~~~~~^^^^^^^^^^^^^\n",
            "TimeoutError: The read operation timed out\n",
            "\n",
            "During handling of the above exception, another exception occurred:\n",
            "\n",
            "Traceback (most recent call last):\n",
            "  File \"/home/wojtek/Documents/uczelnia/decision_analysis/yachts-MCDM/.venv/lib/python3.13/site-packages/pip/_internal/cli/base_command.py\", line 105, in _run_wrapper\n",
            "    status = _inner_run()\n",
            "  File \"/home/wojtek/Documents/uczelnia/decision_analysis/yachts-MCDM/.venv/lib/python3.13/site-packages/pip/_internal/cli/base_command.py\", line 96, in _inner_run\n",
            "    return self.run(options, args)\n",
            "           ~~~~~~~~^^^^^^^^^^^^^^^\n",
            "  File \"/home/wojtek/Documents/uczelnia/decision_analysis/yachts-MCDM/.venv/lib/python3.13/site-packages/pip/_internal/cli/req_command.py\", line 67, in wrapper\n",
            "    return func(self, options, args)\n",
            "  File \"/home/wojtek/Documents/uczelnia/decision_analysis/yachts-MCDM/.venv/lib/python3.13/site-packages/pip/_internal/commands/install.py\", line 379, in run\n",
            "    requirement_set = resolver.resolve(\n",
            "        reqs, check_supported_wheels=not options.target_dir\n",
            "    )\n",
            "  File \"/home/wojtek/Documents/uczelnia/decision_analysis/yachts-MCDM/.venv/lib/python3.13/site-packages/pip/_internal/resolution/resolvelib/resolver.py\", line 179, in resolve\n",
            "    self.factory.preparer.prepare_linked_requirements_more(reqs)\n",
            "    ~~~~~~~~~~~~~~~~~~~~~~~~~~~~~~~~~~~~~~~~~~~~~~~~~~~~~~^^^^^^\n",
            "  File \"/home/wojtek/Documents/uczelnia/decision_analysis/yachts-MCDM/.venv/lib/python3.13/site-packages/pip/_internal/operations/prepare.py\", line 554, in prepare_linked_requirements_more\n",
            "    self._complete_partial_requirements(\n",
            "    ~~~~~~~~~~~~~~~~~~~~~~~~~~~~~~~~~~~^\n",
            "        partially_downloaded_reqs,\n",
            "        ^^^^^^^^^^^^^^^^^^^^^^^^^^\n",
            "        parallel_builds=parallel_builds,\n",
            "        ^^^^^^^^^^^^^^^^^^^^^^^^^^^^^^^^\n",
            "    )\n",
            "    ^\n",
            "  File \"/home/wojtek/Documents/uczelnia/decision_analysis/yachts-MCDM/.venv/lib/python3.13/site-packages/pip/_internal/operations/prepare.py\", line 469, in _complete_partial_requirements\n",
            "    for link, (filepath, _) in batch_download:\n",
            "                               ^^^^^^^^^^^^^^\n",
            "  File \"/home/wojtek/Documents/uczelnia/decision_analysis/yachts-MCDM/.venv/lib/python3.13/site-packages/pip/_internal/network/download.py\", line 184, in __call__\n",
            "    for chunk in chunks:\n",
            "                 ^^^^^^\n",
            "  File \"/home/wojtek/Documents/uczelnia/decision_analysis/yachts-MCDM/.venv/lib/python3.13/site-packages/pip/_internal/cli/progress_bars.py\", line 55, in _rich_progress_bar\n",
            "    for chunk in iterable:\n",
            "                 ^^^^^^^^\n",
            "  File \"/home/wojtek/Documents/uczelnia/decision_analysis/yachts-MCDM/.venv/lib/python3.13/site-packages/pip/_internal/network/utils.py\", line 65, in response_chunks\n",
            "    for chunk in response.raw.stream(\n",
            "                 ~~~~~~~~~~~~~~~~~~~^\n",
            "        chunk_size,\n",
            "        ^^^^^^^^^^^\n",
            "    ...<22 lines>...\n",
            "        decode_content=False,\n",
            "        ^^^^^^^^^^^^^^^^^^^^^\n",
            "    ):\n",
            "    ^\n",
            "  File \"/home/wojtek/Documents/uczelnia/decision_analysis/yachts-MCDM/.venv/lib/python3.13/site-packages/pip/_vendor/urllib3/response.py\", line 622, in stream\n",
            "    data = self.read(amt=amt, decode_content=decode_content)\n",
            "  File \"/home/wojtek/Documents/uczelnia/decision_analysis/yachts-MCDM/.venv/lib/python3.13/site-packages/pip/_vendor/urllib3/response.py\", line 560, in read\n",
            "    with self._error_catcher():\n",
            "         ~~~~~~~~~~~~~~~~~~~^^\n",
            "  File \"/usr/local/lib/python3.13/contextlib.py\", line 162, in __exit__\n",
            "    self.gen.throw(value)\n",
            "    ~~~~~~~~~~~~~~^^^^^^^\n",
            "  File \"/home/wojtek/Documents/uczelnia/decision_analysis/yachts-MCDM/.venv/lib/python3.13/site-packages/pip/_vendor/urllib3/response.py\", line 443, in _error_catcher\n",
            "    raise ReadTimeoutError(self._pool, None, \"Read timed out.\")\n",
            "pip._vendor.urllib3.exceptions.ReadTimeoutError: HTTPSConnectionPool(host='files.pythonhosted.org', port=443): Read timed out.\u001b[0m\u001b[31m\n",
            "\u001b[0m"
          ]
        }
      ],
      "source": [
        "#Install pulp\n",
        "!pip install pulp"
      ]
    },
    {
      "cell_type": "code",
      "execution_count": 3,
      "metadata": {
        "id": "r8NwMFZ6NQsD"
      },
      "outputs": [],
      "source": [
        "# Import the library\n",
        "import random\n",
        "import matplotlib.pyplot as plt\n",
        "from pulp import LpProblem, LpVariable, LpMaximize, lpSum, value, LpStatus"
      ]
    },
    {
      "cell_type": "markdown",
      "metadata": {
        "id": "o6c-ALIxNQsE"
      },
      "source": [
        "## Problem Formulation\n",
        "Let's consider a simple problem:\n",
        "\n",
        "Maximize: $$Z = 4x + 3y$$\n",
        "Subject to:\n",
        "$$2x + y \\leq 20$$\n",
        "$$x + y \\leq 12$$\n",
        "$$x, y \\geq 0$$"
      ]
    },
    {
      "cell_type": "code",
      "execution_count": null,
      "metadata": {
        "id": "eRIRhOQZNQsF"
      },
      "outputs": [],
      "source": [
        "\n",
        "\n",
        "# Create a problem variable:\n",
        "prob = LpProblem(\"Maximize_the_profit_Z\", LpMaximize)\n",
        "\n",
        "# Create problem variables:\n",
        "x = LpVariable(\"x\", lowBound=0, upBound=None) # x>=0\n",
        "y = LpVariable(\"y\", lowBound=0, upBound=None) # y>=0\n"
      ]
    },
    {
      "cell_type": "markdown",
      "metadata": {
        "id": "gMewJ1LcNQsG"
      },
      "source": [
        "In linear programming problems, the objective function represents the quantity which needs to be minimized or maximized. It does not have constraints like `<=` or `>=`. On the other hand, constraints are the restrictions or limitations on the variables. They have a certain form based on the problem requirements, often represented with `<=`, `>=`, or `==`."
      ]
    },
    {
      "cell_type": "code",
      "execution_count": null,
      "metadata": {
        "id": "YDhhgC6VNQsG"
      },
      "outputs": [],
      "source": [
        "\n",
        "# The objective function and constraints are added using the += operator to our model.\n",
        "# Objective function Z\n",
        "prob += 4*x + 3*y, \"Profit\"\n",
        "\n",
        "# Constraints\n",
        "prob += 2*x + y <= 20\n",
        "prob += x + y <= 12"
      ]
    },
    {
      "cell_type": "markdown",
      "metadata": {
        "id": "fut1GgVlNQsH"
      },
      "source": [
        "<b>Note: The names of variables or constraints must be unique and special characters must not appear, e.g. `=`,`<`,`>`."
      ]
    },
    {
      "cell_type": "code",
      "execution_count": null,
      "metadata": {
        "id": "92ox4gAaNQsI",
        "outputId": "f46cbeb2-d8fe-48b6-91fc-e22982829e6f"
      },
      "outputs": [
        {
          "data": {
            "text/plain": [
              "Maximize_the_profit_Z:\n",
              "MAXIMIZE\n",
              "4*x + 3*y + 0\n",
              "SUBJECT TO\n",
              "_C1: 2 x + y <= 20\n",
              "\n",
              "_C2: x + y <= 12\n",
              "\n",
              "VARIABLES\n",
              "x Continuous\n",
              "y Continuous"
            ]
          },
          "execution_count": 45,
          "metadata": {},
          "output_type": "execute_result"
        }
      ],
      "source": [
        "# Problem\n",
        "prob"
      ]
    },
    {
      "cell_type": "code",
      "execution_count": null,
      "metadata": {
        "id": "_enRGWAXNQsK",
        "outputId": "909ad7f0-2023-4bb9-b9ac-2d4d93be950e"
      },
      "outputs": [
        {
          "name": "stdout",
          "output_type": "stream",
          "text": [
            "Status: Optimal\n",
            "x = 8.0\n",
            "y = 4.0\n",
            "Total profit is:  44.0\n"
          ]
        }
      ],
      "source": [
        "# Solve the problem\n",
        "prob.solve()\n",
        "print(\"Status:\", LpStatus[prob.status])\n",
        "\n",
        "# Print the optimal production amount of x and y\n",
        "for v in prob.variables():\n",
        "    print(v.name, \"=\", v.varValue)\n",
        "\n",
        "# Print the optimal profit\n",
        "print(\"Total profit is: \", value(prob.objective))"
      ]
    },
    {
      "cell_type": "markdown",
      "metadata": {
        "id": "AZZPXQ6aNQsL"
      },
      "source": [
        "# Second Example: Solving a Knapsack Problem\n",
        "In this example, we will solve a knapsack problem. We have a set of items, each with a weight and a value, and we want to determine the number of each item to include in a collection so that the total weight is less than or equal to a given limit and the total value is as large as possible.\n",
        "\n",
        "Maximize:\n",
        "$$Z = 50x_1 + 100x_2 + 120x_3$$\n",
        "Subject to:\n",
        "$$10x_1 + 20x_2 + 30x_3 \\leq 50$$\n",
        "$$x_1, x_2, x_3  \\in \\{0,1\\}$$"
      ]
    },
    {
      "cell_type": "code",
      "execution_count": null,
      "metadata": {
        "id": "R4Sx60o5NQsM"
      },
      "outputs": [],
      "source": [
        "# Create the 'prob' variable to contain the problem data\n",
        "prob = LpProblem(name=\"Knapsack_Problem\", sense=LpMaximize)\n",
        "\n",
        "# The 3 binary variables that can only take values of 0 or 1\n",
        "x1 = LpVariable(name=\"Item1\", cat='Binary')\n",
        "x2 = LpVariable(name=\"Item2\", cat='Binary')\n",
        "x3 = LpVariable(name=\"Item3\", cat='Binary')\n",
        "\n",
        "# The objective function is added to 'prob'\n",
        "prob += lpSum([50*x1, 100*x2, 120*x3]), \"Total Value of Items in Knapsack\"\n",
        "\n",
        "# Constraint\n",
        "prob += lpSum([10*x1, 20*x2, 30*x3]) <= 50, \"Total Weight of Items in Knapsack\""
      ]
    },
    {
      "cell_type": "code",
      "execution_count": null,
      "metadata": {
        "id": "bQxMj7a8NQsN",
        "outputId": "4e0edd12-ff62-4df7-8b57-dabe3a145df1"
      },
      "outputs": [
        {
          "name": "stdout",
          "output_type": "stream",
          "text": [
            "Status: Optimal\n",
            "Item1 = 0\n",
            "Item2 = 1\n",
            "Item3 = 1\n",
            "Total value of items in knapsack is:  220\n"
          ]
        }
      ],
      "source": [
        "# Solve the problem\n",
        "prob.solve()\n",
        "print(\"Status:\", LpStatus[prob.status])\n",
        "\n",
        "# Print the optimal solution\n",
        "for v in prob.variables():\n",
        "    print(v.name, \"=\", v.varValue)\n",
        "\n",
        "# Print the optimal total value\n",
        "print(\"Total value of items in knapsack is: \", value(prob.objective))"
      ]
    },
    {
      "cell_type": "markdown",
      "metadata": {
        "id": "CIewVyvMNQsN"
      },
      "source": [
        "# Third Example: Using Binary Variables as Switches\n",
        "In this example, we will use a binary variable as a switch to control whether certain constraints are active or not. This is a common technique in linear programming when we want to model conditional constraints.\n",
        "\n",
        "Maximize: $$Z = b_1 + b_2 + b_3$$\n",
        "Subject to:\n",
        "$$x + y + M(1-b_1) \\geq 50$$\n",
        "$$x + 2y + M b_1 \\leq 100$$\n",
        "$$3x + 2y + M(1-b_2) \\geq 50$$\n",
        "$$-x + 5y + M b_3 > 75$$\n",
        "$$x \\geq 0, x \\leq 8$$\n",
        "$$y \\geq 0$$\n",
        "$$b_1, b_2, b_3 \\in \\{0,1\\}$$"
      ]
    },
    {
      "cell_type": "code",
      "execution_count": null,
      "metadata": {
        "id": "qIHHkdELNQsO"
      },
      "outputs": [],
      "source": [
        "prob = LpProblem(name=\"Switch_Problem\", sense=LpMaximize)\n",
        "\n",
        "# The variables are created\n",
        "x = LpVariable(name=\"x\", lowBound=0,upBound=8)\n",
        "y = LpVariable(name=\"y\", lowBound=0)\n",
        "b1 = LpVariable(name=\"b1\", cat='Binary')\n",
        "b2 = LpVariable(name=\"b2\", cat='Binary')\n",
        "b3 = LpVariable(name=\"b3\", cat='Binary')\n",
        "\n",
        "# The objective function is added to 'prob' first\n",
        "prob += lpSum([b1,b2,b3]), \"Total Value\"\n",
        "\n",
        "\n",
        "M = 1000  # A very large number\n",
        "eps = 0.00001# A very small number\n",
        "prob += lpSum([x, y]) + M*(1-b1)>= 50 , \"Weight constraint when b1 is 1\"\n",
        "prob += lpSum([x, 2*y]) + M*b1 <= 100 , \"Weight constraint when b1 is 0\"\n",
        "prob += lpSum([3*x, 2*y]) + M*(1-b2)>= 50 , \"Weight constraint when b2 is 1\"\n",
        "# It is not possible to model sharp inequalities `>` or `<` in solver,\n",
        "# in order to model them a small epsilon value is added artificially to the non-sharp equations.\n",
        "prob += lpSum([-x, 5*y]) + M*b3 >= 75+eps , \"Weight constraint when b3 is 0\"\n"
      ]
    },
    {
      "cell_type": "code",
      "execution_count": null,
      "metadata": {
        "id": "recGHuQ_NQsO",
        "outputId": "f827aeea-9d37-4949-e6ef-4efa01b397f9"
      },
      "outputs": [
        {
          "name": "stdout",
          "output_type": "stream",
          "text": [
            "Status: Optimal\n",
            "b1 = 0\n",
            "b2 = 1\n",
            "b3 = 1\n",
            "x = 8.0\n",
            "y = 13.0\n",
            "Total value is:  2\n"
          ]
        }
      ],
      "source": [
        "# Solve the problem\n",
        "prob.solve()\n",
        "print(\"Status:\", LpStatus[prob.status])\n",
        "\n",
        "# Print the optimal solution\n",
        "for v in prob.variables():\n",
        "    print(v.name, \"=\", v.varValue)\n",
        "\n",
        "# Print the optimal total value\n",
        "print(\"Total value is: \", value(prob.objective))"
      ]
    },
    {
      "cell_type": "markdown",
      "metadata": {
        "id": "FZGJjCpfNQsP"
      },
      "source": [
        "# Fourth example: A simplified version of the UTA method"
      ]
    },
    {
      "cell_type": "markdown",
      "metadata": {
        "id": "K6kDVmTsNQsP"
      },
      "source": [
        "The following is an example code solving the problem of ranking alternatives using the UTA method. Consider a problem with two competing criteria C_1 and C_2."
      ]
    },
    {
      "cell_type": "markdown",
      "metadata": {
        "id": "e5x3SMYcNQsQ"
      },
      "source": [
        "The following example demonstrates the application of the UTA method for ranking alternatives based on two competing criteria, $C_1$ and $C_2$.  \n",
        "\n",
        "- Criterion $C_1$ is evaluated using numerical values \\($[0, 25, 50, 75, 100]$ (0: least preferred, 100: most preferred)\\),\n",
        "\n",
        "- Criterion $C_2$ is assessed using qualitative ratings \\($['Bad', 'Poor', 'Neutral', 'Good', 'Excellent']$ ('Bad': worst, 'Excellent': best)\\).\n",
        "\n",
        "Both criteria are relevant, but their weights can not exceed $0.75$.\n",
        "\n",
        "In this example, four reference alternatives are randomly assigned values from the available criteria levels. In real-world applications, these values would be determined by a decision maker.\n",
        "\n",
        "Additionally, the decision maker provides preference information, stating that:\n",
        "-  $a_1 > a_2$\n",
        "-  $a_1 > a_3$\n",
        "-  $a_2 > a_4$\n",
        "\n",
        "The objective of this setup is not to optimize some objective function but rather to verify whether a system of equations satisfying these preferences has a feasible solution."
      ]
    },
    {
      "cell_type": "markdown",
      "metadata": {
        "id": "P4vno8vzNQsQ"
      },
      "source": [
        "Run this example several times and see that for some data sets there is a solution and for some the system of equations is contradictory."
      ]
    },
    {
      "cell_type": "code",
      "execution_count": 6,
      "metadata": {
        "id": "lZ6NYa_JNQsQ",
        "outputId": "e0376865-16f4-4561-e0e4-0130f9ae0c69"
      },
      "outputs": [
        {
          "name": "stdout",
          "output_type": "stream",
          "text": [
            "Welcome to the CBC MILP Solver \n",
            "Version: 2.10.3 \n",
            "Build Date: Dec 15 2019 \n",
            "\n",
            "command line - /home/wojtek/Documents/uczelnia/decision_analysis/yachts-MCDM/.venv/lib/python3.13/site-packages/pulp/apis/../solverdir/cbc/linux/i64/cbc /tmp/6b1186d9058a428d9085de5c58e8fca7-pulp.mps -max -timeMode elapsed -branch -printingOptions all -solution /tmp/6b1186d9058a428d9085de5c58e8fca7-pulp.sol (default strategy 1)\n",
            "At line 2 NAME          MODEL\n",
            "At line 3 ROWS\n",
            "At line 25 COLUMNS\n",
            "At line 67 RHS\n",
            "At line 88 BOUNDS\n",
            "At line 100 ENDATA\n",
            "Problem MODEL has 20 rows, 15 columns and 40 elements\n",
            "Coin0008I MODEL read with 0 errors\n",
            "Option for timeMode changed from cpu to elapsed\n",
            "Presolve 9 (-11) rows, 7 (-8) columns and 23 (-17) elements\n",
            "0  Obj -0 Primal inf 1.029997 (3) Dual inf 3.999998 (2)\n",
            "6  Obj -0 Primal inf 0.009999 (1)\n",
            "Primal infeasible - objective value -0\n",
            "Presolved problem not optimal, resolve after postsolve\n",
            "After Postsolve, objective 0, infeasibilities - dual 0 (0), primal 0.0099999 (1)\n",
            "PrimalInfeasible objective 0 - 6 iterations time 0.002, Presolve 0.00\n",
            "\n",
            "Result - Linear relaxation infeasible\n",
            "\n",
            "Enumerated nodes:           0\n",
            "Total iterations:           0\n",
            "Time (CPU seconds):         0.00\n",
            "Time (Wallclock Seconds):   0.00\n",
            "\n",
            "Option for printingOptions changed from normal to all\n",
            "Total time (CPU seconds):       0.00   (Wallclock seconds):       0.00\n",
            "\n",
            "Status: Infeasible\n",
            "\n",
            "Optimal Solution:\n",
            "Alternative1_Utility = 0.515\n",
            "Alternative2_Utility = 0.505\n",
            "Alternative3_Utility = 0.505\n",
            "Alternative4_Utility = 0.495\n",
            "__dummy = None\n",
            "criterion1_0 = 0.0\n",
            "criterion1_100 = 0.505\n",
            "criterion1_25 = 0.505\n",
            "criterion1_50 = 0.505\n",
            "criterion1_75 = 0.505\n",
            "criterion2_Bad = 0.0\n",
            "criterion2_Excellent = 0.495\n",
            "criterion2_Good = 0.0\n",
            "criterion2_Neutral = 0.0\n",
            "criterion2_Poor = 0.01\n",
            "\n",
            "Objective value: None\n"
          ]
        }
      ],
      "source": [
        "# Define criteria values\n",
        "criterion1_values = [0, 25, 50, 75, 100]\n",
        "criterion2_values = [\"Bad\", \"Poor\", \"Neutral\", \"Good\", \"Excellent\"]\n",
        "\n",
        "# Create LP problem\n",
        "prob = LpProblem(\"Simplified_UTA_Method\", LpMaximize)\n",
        "\n",
        "# Create decision variables for criteria\n",
        "criterion1_vars = {val: LpVariable(f\"criterion1_{val}\", lowBound=0, upBound=1) for val in criterion1_values}\n",
        "criterion2_vars = {val: LpVariable(f\"criterion2_{val}\", lowBound=0, upBound=1) for val in criterion2_values}\n",
        "\n",
        "# Monotonicity constraints\n",
        "for i in range(len(criterion1_values) - 1):\n",
        "    prob += criterion1_vars[criterion1_values[i]] <= criterion1_vars[criterion1_values[i + 1]], f\"Monotonicity_C1_{i}\"\n",
        "for i in range(len(criterion2_values) - 1):\n",
        "    prob += criterion2_vars[criterion2_values[i]] <= criterion2_vars[criterion2_values[i + 1]], f\"Monotonicity_C2_{i}\"\n",
        "\n",
        "# Normalization constraints\n",
        "prob += criterion1_vars[0] == 0, \"Normalize_C1_Lowest\"\n",
        "prob += criterion2_vars[\"Bad\"] == 0, \"Normalize_C2_Lowest\"\n",
        "prob += criterion1_vars[100] + criterion2_vars[\"Excellent\"] == 1, \"Normalize_Criteria_Sum\"\n",
        "\n",
        "# Weight constraints (not part of UTA but additional constraint)\n",
        "prob += criterion1_vars[100] <= 0.75, \"Weight_C1_Limit\"\n",
        "prob += criterion2_vars[\"Excellent\"] <= 0.75, \"Weight_C2_Limit\"\n",
        "\n",
        "# Define alternatives with random evaluations\n",
        "alternatives = {\n",
        "    f\"Alternative{i+1}\": {\n",
        "        \"C1\": random.choice(criterion1_values),\n",
        "        \"C2\": random.choice(criterion2_values)\n",
        "    }\n",
        "    for i in range(4)\n",
        "}\n",
        "\n",
        "# Create utility variables and constraints\n",
        "alternative_utilities = {}\n",
        "for name, evals in alternatives.items():\n",
        "    utility_var = LpVariable(f\"{name}_Utility\", lowBound=0)\n",
        "    alternative_utilities[name] = utility_var\n",
        "\n",
        "    # Sum of selected criteria variables defines utility\n",
        "    prob += utility_var == lpSum([criterion1_vars[evals[\"C1\"]], criterion2_vars[evals[\"C2\"]]]), f\"Utility_{name}\"\n",
        "\n",
        "# Preference constraints provided by the decision maker\n",
        "epsilon = 0.01 # Small value to ensure strict preference\n",
        "prob += alternative_utilities[\"Alternative1\"] >= alternative_utilities[\"Alternative2\"] + epsilon, \"Pref_A1_A2\"\n",
        "prob += alternative_utilities[\"Alternative1\"] >= alternative_utilities[\"Alternative3\"] + epsilon, \"Pref_A1_A3\"\n",
        "prob += alternative_utilities[\"Alternative2\"] >= alternative_utilities[\"Alternative4\"] + epsilon, \"Pref_A2_A4\"\n",
        "\n",
        "# No specific objective function; checking feasibility\n",
        "# You need to write your own objective function depending on the variant of the UTA method.\n",
        "\n",
        "prob += 0 # Placeholder objective function\n",
        "\n",
        "# Solve the problem\n",
        "prob.solve()\n",
        "\n",
        "# Print results\n",
        "print(f\"Status: {LpStatus[prob.status]}\")\n",
        "print(\"\\nOptimal Solution:\")\n",
        "for var in prob.variables():\n",
        "    print(f\"{var.name} = {value(var)}\")\n",
        "\n",
        "print(\"\\nObjective value:\", value(prob.objective))\n",
        "# In the results below, there is  __dummy = None which is a placeholder for the objective function."
      ]
    },
    {
      "cell_type": "code",
      "execution_count": 7,
      "metadata": {
        "id": "PvEtPxTuNQsR",
        "outputId": "1ff794c3-51bf-40aa-dffe-01d3996c7391"
      },
      "outputs": [
        {
          "data": {
            "image/png": "[encoded data removed]",
            "text/plain": [
              "<Figure size 800x600 with 1 Axes>"
            ]
          },
          "metadata": {},
          "output_type": "display_data"
        }
      ],
      "source": [
        "# This example demonstrates how to plot the partial utility function for criterion 1\n",
        "solver_values = [value(criterion1_vars[val]) for val in criterion1_values]\n",
        "\n",
        "plt.figure(figsize=(8, 6))\n",
        "plt.plot(criterion1_values, solver_values, marker='o', linestyle='-', color='b', label='$u(g_{C_1})$')\n",
        "plt.xlabel('$g_{C_1}$')\n",
        "plt.ylabel('$u(g_{C_1})$')\n",
        "plt.title('Plot of the partial utility function for criterion $C_1$')\n",
        "plt.xticks(criterion1_values)\n",
        "plt.grid(True)\n",
        "plt.show()\n"
      ]
    },
    {
      "cell_type": "code",
      "execution_count": null,
      "metadata": {
        "id": "_Zz-IqLMNQsR"
      },
      "outputs": [],
      "source": []
    }
  ],
  "metadata": {
    "colab": {
      "provenance": []
    },
    "kernelspec": {
      "display_name": ".venv",
      "language": "python",
      "name": "python3"
    },
    "language_info": {
      "codemirror_mode": {
        "name": "ipython",
        "version": 3
      },
      "file_extension": ".py",
      "mimetype": "text/x-python",
      "name": "python",
      "nbconvert_exporter": "python",
      "pygments_lexer": "ipython3",
      "version": "3.13.2"
    }
  },
  "nbformat": 4,
  "nbformat_minor": 0
}
