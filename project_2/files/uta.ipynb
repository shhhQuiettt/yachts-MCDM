{
 "cells": [
  {
   "cell_type": "markdown",
   "metadata": {},
   "source": [
    "# UTA Method\n",
    "\n",
    "## Authors:\n",
    "- Wojciech Bogacz 156034\n",
    "- Krzysztof Skrobała 156039"
   ]
  },
  {
   "cell_type": "code",
   "execution_count": 1,
   "metadata": {},
   "outputs": [],
   "source": [
    "import matplotlib.pyplot as plt\n",
    "from pulp import LpProblem, LpVariable, LpMaximize, lpSum, value, LpStatus, LpMinimize"
   ]
  },
  {
   "cell_type": "markdown",
   "metadata": {},
   "source": [
    "# Dataset\n",
    "## 1.1. Description\n",
    "As decision makers, we want to plan our vacation in the Mazurian lakes. There are many\n",
    "yachts with several parameters to consider, and we want the best one for the best price.\n",
    "We gathered 16 yachts from zegluj.pl website, and outlined 5 parameters: cost per day,\n",
    "deposit, power of the engine, sail area, width of the boat.\n",
    "Example yacht data:\n",
    "Name PricePerDay Deposit EnginePower SailArea Width\n",
    "Antila 24.4 290 1500 6 30 270\n",
    "Antila 24 220 2000 4 27 270\n",
    "Here we can say that Antila 24 is cheaper, but on the cost of the lower engine power\n",
    "and the lower sail area. Unfortunately, there is no solution which is the best on every\n",
    "criterion, so we aim to select boats with sensible trade-offs with the MCDA methods.\n",
    "## 1.2. Criterion\n",
    "### 1.2.1. Cost per day\n",
    "This criterion specifies the cost of renting the boat. It has a continuous domain, and\n",
    "hypothetically the owner can provide infinitely large value. Of course, the nature is of the\n",
    "cost type. As a student, we prefer to boat for a limited budget. Therefore, we apply for\n",
    "this criteria the highest weight equals 4.\n",
    "### 1.2.2. Deposit\n",
    "This criterion specifies the cost of deposit. It also has a continuous domain, without an\n",
    "upper boundary. Of course, the nature is of cost type. This criterion is not very important,\n",
    "so we assigned 1 as a weight.\n",
    "### 1.2.3. Power of the engine\n",
    "This criterion specifies the power of the engine in horsepower. It’s discrete and gain-type\n",
    "parameter. Having more horsepower, gives me pleasure during the sailing. We assigned\n",
    "2 as the weight.\n",
    "### 1.2.4. Sail area\n",
    "This criterion specifies the Sail area in cm2. It is continuous and gain-type parameter.\n",
    "Having a greater area, provides faster boat and as a result more adventure experience. We\n",
    "assigned 2 as the weight.\n",
    "### 1.2.5. Width of the boat\n",
    "This criterion specifies the width of the boat in cm. It is continuous and gain-type param-\n",
    "eter. This parameter is not very relevant, however having greater boat, provides greater\n",
    "space for the crew. We assigned 1 as the weight."
   ]
  },
  {
   "cell_type": "markdown",
   "metadata": {},
   "source": [
    "Uploading the dataset for analysis"
   ]
  },
  {
   "cell_type": "code",
   "execution_count": 2,
   "metadata": {},
   "outputs": [
    {
     "name": "stdout",
     "output_type": "stream",
     "text": [
      "               Name  PricePerDay  Deposit  EnginePower  SailArea  Width\n",
      "0       Antila 24.4          290     1500            4        26    249\n",
      "1      Maxus 24 Evo          360     1700            4        27    252\n",
      "2       Aquatic 25T          260     1400            4        27    252\n",
      "3        Mariner 24          290     1500            5        29    252\n",
      "4         Laguna 25          190     1000            5        30    255\n",
      "5         Phobos 25          300     2000            6        30    255\n",
      "6         Antila 24          220     2000            6        30    255\n",
      "7       Antila 28.8          580     2000            6        30    270\n",
      "8       Phobos 24.5          390     1500            6        30    270\n",
      "9    Antila 24.4 #2          240     1500            6        30    270\n",
      "10     Phobos 25 #2          400     1500            6        30    274\n",
      "11  Maxus 24 Evo #2          300     1500            6        30    280\n",
      "12         Maxus 24          250     1000            6        30    286\n",
      "13   Tes 246 Versus          400     3000            8        31    286\n",
      "14        Janmor 25          250     3000           10        32    286\n",
      "15   Phobos 24.5 #2          360     1700           12        39    307\n"
     ]
    }
   ],
   "source": [
    "import pandas as pd\n",
    "import numpy as np\n",
    "df = pd.read_csv(\"dataset/uta/dataset.csv\")\n",
    "\n",
    "PricePerDay_tab = np.sort(df[\"PricePerDay\"].to_numpy())[::-1]\n",
    "Deposit_tab = np.sort(df[\"Deposit\"].to_numpy())[::-1]\n",
    "EnginePower_tab = df[\"EnginePower\"].to_numpy()\n",
    "EnginePower_tab.sort()\n",
    "SailArea_tab = df[\"SailArea\"].to_numpy()\n",
    "SailArea_tab.sort()\n",
    "Width_tab = df[\"Width\"].to_numpy()\n",
    "Width_tab.sort()\n",
    "\n",
    "print(df)\n",
    "\n"
   ]
  },
  {
   "cell_type": "markdown",
   "metadata": {},
   "source": [
    "# UTA 2.1"
   ]
  },
  {
   "cell_type": "markdown",
   "metadata": {},
   "source": [
    "Initialization of the model using Pulp library. "
   ]
  },
  {
   "cell_type": "code",
   "execution_count": 3,
   "metadata": {},
   "outputs": [
    {
     "name": "stdout",
     "output_type": "stream",
     "text": [
      "               Name  PricePerDay  Deposit  EnginePower  SailArea  Width\n",
      "0       Antila 24.4          290     1500            4        26    249\n",
      "1      Maxus 24 Evo          360     1700            4        27    252\n",
      "2       Aquatic 25T          260     1400            4        27    252\n",
      "3        Mariner 24          290     1500            5        29    252\n",
      "4         Laguna 25          190     1000            5        30    255\n",
      "5         Phobos 25          300     2000            6        30    255\n",
      "6         Antila 24          220     2000            6        30    255\n",
      "7       Antila 28.8          580     2000            6        30    270\n",
      "8       Phobos 24.5          390     1500            6        30    270\n",
      "9    Antila 24.4 #2          240     1500            6        30    270\n",
      "10     Phobos 25 #2          400     1500            6        30    274\n",
      "11  Maxus 24 Evo #2          300     1500            6        30    280\n",
      "12         Maxus 24          250     1000            6        30    286\n",
      "13   Tes 246 Versus          400     3000            8        31    286\n",
      "14        Janmor 25          250     3000           10        32    286\n",
      "15   Phobos 24.5 #2          360     1700           12        39    307\n"
     ]
    }
   ],
   "source": [
    "prob = LpProblem(\"UTA_Method\", LpMinimize)\n",
    "\n",
    "PricePerDay_vars = {val: LpVariable(f\"PricePerDay_{val}\", lowBound=0, upBound=1) for val in PricePerDay_tab}\n",
    "Deposit_vars = {val: LpVariable(f\"Deposit_{val}\", lowBound=0, upBound=1) for val in Deposit_tab}\n",
    "EnginePower_vars = {val: LpVariable(f\"EnginePower_{val}\", lowBound=0, upBound=1) for val in EnginePower_tab}\n",
    "SailArea_vars = {val: LpVariable(f\"SailArea_{val}\", lowBound=0, upBound=1) for val in SailArea_tab}\n",
    "Width_vars = {val: LpVariable(f\"Width_{val}\", lowBound=0, upBound=1) for val in Width_tab}\n",
    "\n",
    "# Monotonic constraints\n",
    "\n",
    "for i in range(len(PricePerDay_tab) - 1):\n",
    "    prob += PricePerDay_vars[PricePerDay_tab[i]] <= PricePerDay_vars[PricePerDay_tab[i + 1]], f\"Monotonicity_PricePerDay_{i}\"\n",
    "for i in range(len(Deposit_tab) - 1):\n",
    "    prob += Deposit_vars[Deposit_tab[i]] <= Deposit_vars[Deposit_tab[i + 1]], f\"Monotonicity_Deposit_{i}\"\n",
    "for i in range(len(EnginePower_tab) - 1):\n",
    "    prob += EnginePower_vars[EnginePower_tab[i]] <= EnginePower_vars[EnginePower_tab[i + 1]], f\"Monotonicity_EnginePower_{i}\"\n",
    "for i in range(len(SailArea_tab) - 1):\n",
    "    prob += SailArea_vars[SailArea_tab[i]] <= SailArea_vars[SailArea_tab[i + 1]], f\"Monotonicity_SailArea_{i}\"\n",
    "for i in range(len(Width_tab) - 1):\n",
    "    prob += Width_vars[Width_tab[i]] <= Width_vars[Width_tab[i + 1]], f\"Monotonicity_Width_{i}\"\n",
    "\n",
    "# Normalization constraints\n",
    "prob += PricePerDay_vars[PricePerDay_tab[0]] == 0, \"Normalize_PricePerDay_Lowest\"\n",
    "prob += Deposit_vars[Deposit_tab[0]] == 0, \"Normalize_Deposit_Lowest\"\n",
    "prob += EnginePower_vars[EnginePower_tab[0]] == 0, \"Normalize_EnginePower_Lowest\"\n",
    "prob += SailArea_vars[SailArea_tab[0]] == 0, \"Normalize_SailArea_Lowest\"\n",
    "prob += Width_vars[Width_tab[0]] == 0, \"Normalize_Width_Lowest\"\n",
    "prob += PricePerDay_vars[PricePerDay_tab[-1]] + Deposit_vars[Deposit_tab[-1]] + EnginePower_vars[EnginePower_tab[-1]] + SailArea_vars[SailArea_tab[-1]] + Width_vars[Width_tab[-1]] == 1, \"Normalize_Sum_One\"\n",
    "\n",
    "prob += PricePerDay_vars[PricePerDay_tab[-1]] <= 0.5, \"Normalize_PricePerDay_Highest\"\n",
    "prob += Deposit_vars[Deposit_tab[-1]] <= 0.5, \"Normalize_Deposit_Highest\"\n",
    "prob += EnginePower_vars[EnginePower_tab[-1]] <= 0.5, \"Normalize_EnginePower_Highest\"\n",
    "prob += SailArea_vars[SailArea_tab[-1]] <= 0.5, \"Normalize_SailArea_Highest\"\n",
    "prob += Width_vars[Width_tab[-1]] <= 0.5, \"Normalize_Width_Highest\"\n",
    "\n",
    "\n",
    "# additional constraints\n",
    "prob += Deposit_vars[Deposit_tab[-1]] >= 0.1, \"Normalize_Deposit_Highest_1\"\n",
    "prob += PricePerDay_vars[PricePerDay_tab[-1]] >= 0.3, \"Normalize_PricePerDay_Highest_2\"\n",
    "prob += EnginePower_vars[EnginePower_tab[-1]] >= 0.2, \"Normalize_EnginePower_Highest_3\"\n",
    "prob += SailArea_vars[SailArea_tab[-1]] >= 0.2, \"Normalize_SailArea_Highest_4\"\n",
    "prob += Width_vars[Width_tab[-1]] >= 0.2, \"Normalize_Width_Highest_5\"\n",
    "\n",
    "\n",
    "# Utility functions for all alternatives\n",
    "alternatives = df.iloc[:]\n",
    "alternative_utilities = {}\n",
    "\n",
    "for index, row in alternatives.iterrows():\n",
    "    name = row[\"Name\"]\n",
    "    \n",
    "    utility_var = LpVariable(f\"{name}_Utility\", lowBound=0)\n",
    "    alternative_utilities[name] = utility_var\n",
    "\n",
    "    \n",
    "    prob += utility_var == lpSum([\n",
    "        PricePerDay_vars[row[\"PricePerDay\"]],\n",
    "        Deposit_vars[row[\"Deposit\"]],\n",
    "        EnginePower_vars[row[\"EnginePower\"]],\n",
    "        SailArea_vars[row[\"SailArea\"]],\n",
    "        Width_vars[row[\"Width\"]]\n",
    "    ]), f\"Utility_{name}\"\n",
    "\n",
    "\n",
    "print(alternatives)\n"
   ]
  },
  {
   "cell_type": "markdown",
   "metadata": {},
   "source": [
    "Initialization of the binary variables. "
   ]
  },
  {
   "cell_type": "code",
   "execution_count": 4,
   "metadata": {},
   "outputs": [],
   "source": [
    "v1 = LpVariable(\"v_Laguna 25_Antila 24.4\", lowBound=0, cat=\"Binary\")\n",
    "v2 = LpVariable(\"v_Antila 24.4_Maxus 24 Evo\", lowBound=0, cat=\"Binary\")\n",
    "v3 = LpVariable(\"v_Maxus 24 Evo_Mariner 24\", lowBound=0, cat=\"Binary\")\n",
    "v4 = LpVariable(\"v_Mariner 24_Antila 24.4\", lowBound=0, cat=\"Binary\")\n",
    "v5 = LpVariable(\"v_Phobos 24.5 #2_Phobos 25 #2\", lowBound=0, cat=\"Binary\")"
   ]
  },
  {
   "cell_type": "markdown",
   "metadata": {},
   "source": [
    "Preference Information provided by Decision Maker."
   ]
  },
  {
   "cell_type": "code",
   "execution_count": 5,
   "metadata": {},
   "outputs": [],
   "source": [
    "epsilon = 0.01\n",
    "\n",
    "\n",
    "prob += alternative_utilities[\"Laguna 25\"] >= alternative_utilities[\"Antila 24.4\"] + epsilon - v1, \"Pref_1\"\n",
    "prob += alternative_utilities[\"Antila 24.4\"] >= alternative_utilities[\"Maxus 24 Evo\"] + epsilon - v2, \"Pref_2\"\n",
    "prob += alternative_utilities[\"Maxus 24 Evo\"] >= alternative_utilities[\"Mariner 24\"] + epsilon - v3, \"Pref_3\"\n",
    "prob += alternative_utilities[\"Mariner 24\"] >= alternative_utilities[\"Laguna 25\"] + epsilon -v4, \"Pref_4\"\n",
    "prob += alternative_utilities[\"Phobos 24.5 #2\"] >= alternative_utilities[\"Maxus 24 Evo #2\"] + epsilon -v5, \"Pref_5\"\n"
   ]
  },
  {
   "cell_type": "markdown",
   "metadata": {},
   "source": [
    "Objective function as a sum of binary variables, which will be minimize to search for the largest possible consistent set of preference information. "
   ]
  },
  {
   "cell_type": "code",
   "execution_count": 6,
   "metadata": {},
   "outputs": [],
   "source": [
    "prob += v1 + v2 + v3 + v4 + v5"
   ]
  },
  {
   "cell_type": "code",
   "execution_count": 7,
   "metadata": {},
   "outputs": [
    {
     "name": "stdout",
     "output_type": "stream",
     "text": [
      "Welcome to the CBC MILP Solver \n",
      "Version: 2.10.3 \n",
      "Build Date: Dec 15 2019 \n",
      "\n",
      "command line - /home/wojtek/Documents/uczelnia/decision_analysis/yachts-MCDM/.venv/lib/python3.13/site-packages/pulp/apis/../solverdir/cbc/linux/i64/cbc /tmp/a22fa8dbd6b046479e8a26c8e6351261-pulp.mps -timeMode elapsed -branch -printingOptions all -solution /tmp/a22fa8dbd6b046479e8a26c8e6351261-pulp.sol (default strategy 1)\n",
      "At line 2 NAME          MODEL\n",
      "At line 3 ROWS\n",
      "At line 117 COLUMNS\n",
      "At line 372 RHS\n",
      "At line 485 BOUNDS\n",
      "At line 529 ENDATA\n",
      "Problem MODEL has 112 rows, 59 columns and 197 elements\n",
      "Coin0008I MODEL read with 0 errors\n",
      "Option for timeMode changed from cpu to elapsed\n",
      "Continuous objective value is 0.04 - 0.00 seconds\n",
      "Cgl0003I 0 fixed, 0 tightened bounds, 3 strengthened rows, 0 substitutions\n",
      "Cgl0004I processed model has 15 rows, 20 columns (5 integer (5 of which binary)) and 56 elements\n",
      "Cbc0038I Initial state - 3 integers unsatisfied sum - 0.0493823\n",
      "Cbc0038I Pass   1: suminf.    0.04938 (3) obj. 0.0493823 iterations 0\n",
      "Cbc0038I Solution found of 3\n",
      "Cbc0038I Relaxing continuous gives 3\n",
      "Cbc0038I Before mini branch and bound, 2 integers at bound fixed and 9 continuous\n",
      "Cbc0038I Full problem 15 rows 20 columns, reduced to 7 rows 9 columns\n",
      "Cbc0038I Mini branch and bound improved solution from 3 to 2 (0.01 seconds)\n",
      "Cbc0038I Round again with cutoff of 0.905028\n",
      "Cbc0038I Reduced cost fixing fixed 2 variables on major pass 2\n",
      "Cbc0038I Pass   2: suminf.    0.04938 (3) obj. 0.0493823 iterations 0\n",
      "Cbc0038I Pass   3: suminf.    0.14435 (2) obj. 0.905028 iterations 4\n",
      "Cbc0038I Pass   4: suminf.    0.14435 (3) obj. 0.905028 iterations 1\n",
      "Cbc0038I Pass   5: suminf.    0.11966 (2) obj. 0.905028 iterations 5\n",
      "Cbc0038I Pass   6: suminf.    0.11966 (2) obj. 0.905028 iterations 0\n",
      "Cbc0038I Pass   7: suminf.    0.11966 (2) obj. 0.905028 iterations 0\n",
      "Cbc0038I Pass   8: suminf.    0.11966 (2) obj. 0.905028 iterations 0\n",
      "Cbc0038I Pass   9: suminf.    0.11966 (2) obj. 0.905028 iterations 0\n",
      "Cbc0038I Pass  10: suminf.    0.11966 (2) obj. 0.905028 iterations 0\n",
      "Cbc0038I Pass  11: suminf.    0.11966 (2) obj. 0.905028 iterations 0\n",
      "Cbc0038I Pass  12: suminf.    0.11966 (2) obj. 0.905028 iterations 0\n",
      "Cbc0038I Pass  13: suminf.    0.11966 (2) obj. 0.905028 iterations 0\n",
      "Cbc0038I Pass  14: suminf.    0.11966 (2) obj. 0.905028 iterations 0\n",
      "Cbc0038I Pass  15: suminf.    0.11966 (2) obj. 0.905028 iterations 0\n",
      "Cbc0038I Pass  16: suminf.    0.11966 (2) obj. 0.905028 iterations 0\n",
      "Cbc0038I Pass  17: suminf.    0.11966 (2) obj. 0.905028 iterations 0\n",
      "Cbc0038I Pass  18: suminf.    0.11966 (2) obj. 0.905028 iterations 0\n",
      "Cbc0038I Pass  19: suminf.    0.11966 (2) obj. 0.905028 iterations 0\n",
      "Cbc0038I Pass  20: suminf.    0.11966 (2) obj. 0.905028 iterations 0\n",
      "Cbc0038I Pass  21: suminf.    0.11966 (2) obj. 0.905028 iterations 0\n",
      "Cbc0038I Pass  22: suminf.    0.11966 (2) obj. 0.905028 iterations 0\n",
      "Cbc0038I Pass  23: suminf.    0.11966 (2) obj. 0.905028 iterations 0\n",
      "Cbc0038I Pass  24: suminf.    0.11966 (2) obj. 0.905028 iterations 0\n",
      "Cbc0038I Pass  25: suminf.    0.11966 (2) obj. 0.905028 iterations 0\n",
      "Cbc0038I Pass  26: suminf.    0.11966 (2) obj. 0.905028 iterations 0\n",
      "Cbc0038I Pass  27: suminf.    0.11966 (2) obj. 0.905028 iterations 0\n",
      "Cbc0038I Pass  28: suminf.    0.11966 (2) obj. 0.905028 iterations 0\n",
      "Cbc0038I Pass  29: suminf.    0.11966 (2) obj. 0.905028 iterations 0\n",
      "Cbc0038I Pass  30: suminf.    0.11966 (2) obj. 0.905028 iterations 0\n",
      "Cbc0038I Pass  31: suminf.    0.04938 (3) obj. 0.0493823 iterations 3\n",
      "Cbc0038I No solution found this major pass\n",
      "Cbc0038I Before mini branch and bound, 2 integers at bound fixed and 9 continuous\n",
      "Cbc0038I Full problem 15 rows 20 columns, reduced to 7 rows 9 columns\n",
      "Cbc0038I Mini branch and bound did not improve solution (0.01 seconds)\n",
      "Cbc0038I After 0.01 seconds - Feasibility pump exiting with objective of 2 - took 0.00 seconds\n",
      "Cbc0012I Integer solution of 2 found by feasibility pump after 0 iterations and 0 nodes (0.01 seconds)\n",
      "Cbc0038I Full problem 15 rows 20 columns, reduced to 15 rows 18 columns\n",
      "Cbc0013I At root node, 8 cuts changed objective from 0.049382258 to 2 in 1 passes\n",
      "Cbc0014I Cut generator 0 (Probing) - 0 row cuts average 0.0 elements, 0 column cuts (0 active)  in 0.000 seconds - new frequency is -100\n",
      "Cbc0014I Cut generator 1 (Gomory) - 3 row cuts average 3.3 elements, 0 column cuts (0 active)  in 0.000 seconds - new frequency is 1\n",
      "Cbc0014I Cut generator 2 (Knapsack) - 0 row cuts average 0.0 elements, 0 column cuts (0 active)  in 0.000 seconds - new frequency is -100\n",
      "Cbc0014I Cut generator 3 (Clique) - 0 row cuts average 0.0 elements, 0 column cuts (0 active)  in 0.000 seconds - new frequency is -100\n",
      "Cbc0014I Cut generator 4 (MixedIntegerRounding2) - 1 row cuts average 3.0 elements, 0 column cuts (0 active)  in 0.000 seconds - new frequency is 1\n",
      "Cbc0014I Cut generator 5 (FlowCover) - 0 row cuts average 0.0 elements, 0 column cuts (0 active)  in 0.000 seconds - new frequency is -100\n",
      "Cbc0014I Cut generator 6 (TwoMirCuts) - 4 row cuts average 3.2 elements, 0 column cuts (0 active)  in 0.000 seconds - new frequency is -100\n",
      "Cbc0001I Search completed - best objective 2, took 0 iterations and 0 nodes (0.01 seconds)\n",
      "Cbc0035I Maximum depth 0, 2 variables fixed on reduced cost\n",
      "Cuts at root node changed objective from 0.0493823 to 2\n",
      "Probing was tried 1 times and created 0 cuts of which 0 were active after adding rounds of cuts (0.000 seconds)\n",
      "Gomory was tried 1 times and created 3 cuts of which 0 were active after adding rounds of cuts (0.000 seconds)\n",
      "Knapsack was tried 1 times and created 0 cuts of which 0 were active after adding rounds of cuts (0.000 seconds)\n",
      "Clique was tried 1 times and created 0 cuts of which 0 were active after adding rounds of cuts (0.000 seconds)\n",
      "MixedIntegerRounding2 was tried 1 times and created 1 cuts of which 0 were active after adding rounds of cuts (0.000 seconds)\n",
      "FlowCover was tried 1 times and created 0 cuts of which 0 were active after adding rounds of cuts (0.000 seconds)\n",
      "TwoMirCuts was tried 1 times and created 4 cuts of which 0 were active after adding rounds of cuts (0.000 seconds)\n",
      "ZeroHalf was tried 1 times and created 0 cuts of which 0 were active after adding rounds of cuts (0.000 seconds)\n",
      "\n",
      "Result - Optimal solution found\n",
      "\n",
      "Objective value:                2.00000000\n",
      "Enumerated nodes:               0\n",
      "Total iterations:               0\n",
      "Time (CPU seconds):             0.01\n",
      "Time (Wallclock seconds):       0.01\n",
      "\n",
      "Option for printingOptions changed from normal to all\n",
      "Total time (CPU seconds):       0.01   (Wallclock seconds):       0.01\n",
      "\n"
     ]
    },
    {
     "data": {
      "text/plain": [
       "1"
      ]
     },
     "execution_count": 7,
     "metadata": {},
     "output_type": "execute_result"
    }
   ],
   "source": [
    "prob.solve()"
   ]
  },
  {
   "cell_type": "markdown",
   "metadata": {},
   "source": [
    "The solver found the solution."
   ]
  },
  {
   "cell_type": "code",
   "execution_count": 8,
   "metadata": {},
   "outputs": [
    {
     "name": "stdout",
     "output_type": "stream",
     "text": [
      "Status: Optimal\n",
      "\n",
      "Optimal Solution:\n",
      "Antila_24.4_#2_Utility = 0.3\n",
      "Antila_24.4_Utility = 0.3\n",
      "Antila_24_Utility = 0.3\n",
      "Antila_28.8_Utility = 0.0\n",
      "Aquatic_25T_Utility = 0.4\n",
      "Deposit_1000 = 0.1\n",
      "Deposit_1400 = 0.1\n",
      "Deposit_1500 = 0.0\n",
      "Deposit_1700 = 0.0\n",
      "Deposit_2000 = 0.0\n",
      "Deposit_3000 = 0.0\n",
      "EnginePower_10 = 0.0\n",
      "EnginePower_12 = 0.2\n",
      "EnginePower_4 = 0.0\n",
      "EnginePower_5 = 0.0\n",
      "EnginePower_6 = 0.0\n",
      "EnginePower_8 = 0.0\n",
      "Janmor_25_Utility = 0.3\n",
      "Laguna_25_Utility = 0.4\n",
      "Mariner_24_Utility = 0.3\n",
      "Maxus_24_Evo_#2_Utility = 0.3\n",
      "Maxus_24_Evo_Utility = 0.29\n",
      "Maxus_24_Utility = 0.4\n",
      "Phobos_24.5_#2_Utility = 0.89\n",
      "Phobos_24.5_Utility = 0.0\n",
      "Phobos_25_#2_Utility = 0.0\n",
      "Phobos_25_Utility = 0.3\n",
      "PricePerDay_190 = 0.3\n",
      "PricePerDay_220 = 0.3\n",
      "PricePerDay_240 = 0.3\n",
      "PricePerDay_250 = 0.3\n",
      "PricePerDay_260 = 0.3\n",
      "PricePerDay_290 = 0.3\n",
      "PricePerDay_300 = 0.3\n",
      "PricePerDay_360 = 0.29\n",
      "PricePerDay_390 = 0.0\n",
      "PricePerDay_400 = 0.0\n",
      "PricePerDay_580 = 0.0\n",
      "SailArea_26 = 0.0\n",
      "SailArea_27 = 0.0\n",
      "SailArea_29 = 0.0\n",
      "SailArea_30 = 0.0\n",
      "SailArea_31 = 0.0\n",
      "SailArea_32 = 0.0\n",
      "SailArea_39 = 0.2\n",
      "Tes_246_Versus_Utility = 0.0\n",
      "Width_249 = 0.0\n",
      "Width_252 = 0.0\n",
      "Width_255 = 0.0\n",
      "Width_270 = 0.0\n",
      "Width_274 = 0.0\n",
      "Width_280 = 0.0\n",
      "Width_286 = 0.0\n",
      "Width_307 = 0.2\n",
      "v_Antila_24.4_Maxus_24_Evo = 0.0\n",
      "v_Laguna_25_Antila_24.4 = 0.0\n",
      "v_Mariner_24_Antila_24.4 = 1.0\n",
      "v_Maxus_24_Evo_Mariner_24 = 1.0\n",
      "v_Phobos_24.5_#2_Phobos_25_#2 = 0.0\n",
      "\n",
      "Objective value: 2.0\n"
     ]
    }
   ],
   "source": [
    "print(f\"Status: {LpStatus[prob.status]}\")\n",
    "print(\"\\nOptimal Solution:\")\n",
    "for var in prob.variables():\n",
    "    print(f\"{var.name} = {value(var)}\")\n",
    "\n",
    "print(\"\\nObjective value:\", value(prob.objective))"
   ]
  },
  {
   "cell_type": "markdown",
   "metadata": {},
   "source": [
    "As we can see in the output: 2 binary variables eaquals 1 therefore having these the set of the preference informations is inconsistent. As a result we have to remove these preference informations and check if the newer set will be consistent."
   ]
  },
  {
   "cell_type": "code",
   "execution_count": 9,
   "metadata": {},
   "outputs": [
    {
     "name": "stdout",
     "output_type": "stream",
     "text": [
      "               Name  PricePerDay  Deposit  EnginePower  SailArea  Width\n",
      "0       Antila 24.4          290     1500            4        26    249\n",
      "1      Maxus 24 Evo          360     1700            4        27    252\n",
      "2       Aquatic 25T          260     1400            4        27    252\n",
      "3        Mariner 24          290     1500            5        29    252\n",
      "4         Laguna 25          190     1000            5        30    255\n",
      "5         Phobos 25          300     2000            6        30    255\n",
      "6         Antila 24          220     2000            6        30    255\n",
      "7       Antila 28.8          580     2000            6        30    270\n",
      "8       Phobos 24.5          390     1500            6        30    270\n",
      "9    Antila 24.4 #2          240     1500            6        30    270\n",
      "10     Phobos 25 #2          400     1500            6        30    274\n",
      "11  Maxus 24 Evo #2          300     1500            6        30    280\n",
      "12         Maxus 24          250     1000            6        30    286\n",
      "13   Tes 246 Versus          400     3000            8        31    286\n",
      "14        Janmor 25          250     3000           10        32    286\n",
      "15   Phobos 24.5 #2          360     1700           12        39    307\n"
     ]
    }
   ],
   "source": [
    "prob = LpProblem(\"UTA_Method\", LpMinimize)\n",
    "\n",
    "PricePerDay_vars = {val: LpVariable(f\"PricePerDay_{val}\", lowBound=0, upBound=1) for val in PricePerDay_tab}\n",
    "Deposit_vars = {val: LpVariable(f\"Deposit_{val}\", lowBound=0, upBound=1) for val in Deposit_tab}\n",
    "EnginePower_vars = {val: LpVariable(f\"EnginePower_{val}\", lowBound=0, upBound=1) for val in EnginePower_tab}\n",
    "SailArea_vars = {val: LpVariable(f\"SailArea_{val}\", lowBound=0, upBound=1) for val in SailArea_tab}\n",
    "Width_vars = {val: LpVariable(f\"Width_{val}\", lowBound=0, upBound=1) for val in Width_tab}\n",
    "\n",
    "# Monotonic constraints\n",
    "\n",
    "for i in range(len(PricePerDay_tab) - 1):\n",
    "    prob += PricePerDay_vars[PricePerDay_tab[i]] <= PricePerDay_vars[PricePerDay_tab[i + 1]], f\"Monotonicity_PricePerDay_{i}\"\n",
    "for i in range(len(Deposit_tab) - 1):\n",
    "    prob += Deposit_vars[Deposit_tab[i]] <= Deposit_vars[Deposit_tab[i + 1]], f\"Monotonicity_Deposit_{i}\"\n",
    "for i in range(len(EnginePower_tab) - 1):\n",
    "    prob += EnginePower_vars[EnginePower_tab[i]] <= EnginePower_vars[EnginePower_tab[i + 1]], f\"Monotonicity_EnginePower_{i}\"\n",
    "for i in range(len(SailArea_tab) - 1):\n",
    "    prob += SailArea_vars[SailArea_tab[i]] <= SailArea_vars[SailArea_tab[i + 1]], f\"Monotonicity_SailArea_{i}\"\n",
    "for i in range(len(Width_tab) - 1):\n",
    "    prob += Width_vars[Width_tab[i]] <= Width_vars[Width_tab[i + 1]], f\"Monotonicity_Width_{i}\"\n",
    "\n",
    "# Normalization constraints\n",
    "prob += PricePerDay_vars[PricePerDay_tab[0]] == 0, \"Normalize_PricePerDay_Lowest\"\n",
    "prob += Deposit_vars[Deposit_tab[0]] == 0, \"Normalize_Deposit_Lowest\"\n",
    "prob += EnginePower_vars[EnginePower_tab[0]] == 0, \"Normalize_EnginePower_Lowest\"\n",
    "prob += SailArea_vars[SailArea_tab[0]] == 0, \"Normalize_SailArea_Lowest\"\n",
    "prob += Width_vars[Width_tab[0]] == 0, \"Normalize_Width_Lowest\"\n",
    "prob += PricePerDay_vars[PricePerDay_tab[-1]] + Deposit_vars[Deposit_tab[-1]] + EnginePower_vars[EnginePower_tab[-1]] + SailArea_vars[SailArea_tab[-1]] + Width_vars[Width_tab[-1]] == 1, \"Normalize_Sum_One\"\n",
    "\n",
    "prob += PricePerDay_vars[PricePerDay_tab[-1]] <= 0.5, \"Normalize_PricePerDay_Highest\"\n",
    "prob += Deposit_vars[Deposit_tab[-1]] <= 0.5, \"Normalize_Deposit_Highest\"\n",
    "prob += EnginePower_vars[EnginePower_tab[-1]] <= 0.5, \"Normalize_EnginePower_Highest\"\n",
    "prob += SailArea_vars[SailArea_tab[-1]] <= 0.5, \"Normalize_SailArea_Highest\"\n",
    "prob += Width_vars[Width_tab[-1]] <= 0.5, \"Normalize_Width_Highest\"\n",
    "\n",
    "\n",
    "# additional constraints\n",
    "prob += Deposit_vars[Deposit_tab[-1]] >= 0.2, \"Normalize_Deposit_Highest_1\"\n",
    "prob += PricePerDay_vars[PricePerDay_tab[-1]] >= 0.2, \"Normalize_PricePerDay_Highest_2\"\n",
    "prob += EnginePower_vars[EnginePower_tab[-1]] >= 0.2, \"Normalize_EnginePower_Highest_3\"\n",
    "prob += SailArea_vars[SailArea_tab[-1]] >= 0.2, \"Normalize_SailArea_Highest_4\"\n",
    "prob += Width_vars[Width_tab[-1]] >= 0.2, \"Normalize_Width_Highest_5\"\n",
    "\n",
    "alternatives = df.iloc[:]\n",
    "alternative_utilities = {}\n",
    "\n",
    "for index, row in alternatives.iterrows():\n",
    "    name = row[\"Name\"]\n",
    "    \n",
    "    utility_var = LpVariable(f\"{name}_Utility\", lowBound=0)\n",
    "    alternative_utilities[name] = utility_var\n",
    "\n",
    "    \n",
    "    prob += utility_var == lpSum([\n",
    "        PricePerDay_vars[row[\"PricePerDay\"]],\n",
    "        Deposit_vars[row[\"Deposit\"]],\n",
    "        EnginePower_vars[row[\"EnginePower\"]],\n",
    "        SailArea_vars[row[\"SailArea\"]],\n",
    "        Width_vars[row[\"Width\"]]\n",
    "    ]), f\"Utility_{name}\"\n",
    "\n",
    "\n",
    "\n",
    "print(alternatives)\n"
   ]
  },
  {
   "cell_type": "code",
   "execution_count": 10,
   "metadata": {},
   "outputs": [],
   "source": [
    "#Preference constraints provided by the decision maker\n",
    "epsilon = 0.01\n",
    "\n",
    "\n",
    "prob += alternative_utilities[\"Laguna 25\"] >= alternative_utilities[\"Antila 24.4\"] + epsilon, \"Pref_1\"\n",
    "prob += alternative_utilities[\"Antila 24.4\"] >= alternative_utilities[\"Maxus 24 Evo\"] + epsilon, \"Pref_2\"\n",
    "# prob += alternative_utilities[\"Maxus 24 Evo\"] >= alternative_utilities[\"Mariner 24\"] + epsilon, \"Pref_3\"\n",
    "# prob += alternative_utilities[\"Mariner 24\"] >= alternative_utilities[\"Laguna 25\"] + epsilon, \"Pref_4\"\n",
    "prob += alternative_utilities[\"Phobos 25 #2\"] >= alternative_utilities[\"Phobos 24.5 #2\"] + epsilon, \"Pref_5\"\n"
   ]
  },
  {
   "cell_type": "code",
   "execution_count": 11,
   "metadata": {},
   "outputs": [],
   "source": [
    "prob += 0\n"
   ]
  },
  {
   "cell_type": "code",
   "execution_count": 12,
   "metadata": {},
   "outputs": [
    {
     "name": "stdout",
     "output_type": "stream",
     "text": [
      "Welcome to the CBC MILP Solver \n",
      "Version: 2.10.3 \n",
      "Build Date: Dec 15 2019 \n",
      "\n",
      "command line - /home/wojtek/Documents/uczelnia/decision_analysis/yachts-MCDM/.venv/lib/python3.13/site-packages/pulp/apis/../solverdir/cbc/linux/i64/cbc /tmp/e1d2e2b4eb2a415db75e339095e77847-pulp.mps -timeMode elapsed -branch -printingOptions all -solution /tmp/e1d2e2b4eb2a415db75e339095e77847-pulp.sol (default strategy 1)\n",
      "At line 2 NAME          MODEL\n",
      "At line 3 ROWS\n",
      "At line 115 COLUMNS\n",
      "At line 347 RHS\n",
      "At line 458 BOUNDS\n",
      "At line 498 ENDATA\n",
      "Problem MODEL has 110 rows, 55 columns and 188 elements\n",
      "Coin0008I MODEL read with 0 errors\n",
      "Option for timeMode changed from cpu to elapsed\n",
      "Presolve 3 (-107) rows, 3 (-52) columns and 6 (-182) elements\n",
      "Optimal - objective value 0\n",
      "After Postsolve, objective 0, infeasibilities - dual 0 (0), primal 0 (0)\n",
      "Optimal objective 0 - 0 iterations time 0.002, Presolve 0.00\n",
      "Option for printingOptions changed from normal to all\n",
      "Total time (CPU seconds):       0.00   (Wallclock seconds):       0.00\n",
      "\n"
     ]
    },
    {
     "data": {
      "text/plain": [
       "1"
      ]
     },
     "execution_count": 12,
     "metadata": {},
     "output_type": "execute_result"
    }
   ],
   "source": [
    "prob.solve()"
   ]
  },
  {
   "cell_type": "code",
   "execution_count": 13,
   "metadata": {},
   "outputs": [
    {
     "name": "stdout",
     "output_type": "stream",
     "text": [
      "Status: Optimal\n",
      "\n",
      "Optimal Solution:\n",
      "Antila_24.4_#2_Utility = 1.0\n",
      "Antila_24.4_Utility = 0.4\n",
      "Antila_24_Utility = 0.8\n",
      "Antila_28.8_Utility = 0.6\n",
      "Aquatic_25T_Utility = 0.4\n",
      "Deposit_1000 = 0.2\n",
      "Deposit_1400 = 0.2\n",
      "Deposit_1500 = 0.2\n",
      "Deposit_1700 = 0.0\n",
      "Deposit_2000 = 0.0\n",
      "Deposit_3000 = 0.0\n",
      "EnginePower_10 = 0.2\n",
      "EnginePower_12 = 0.2\n",
      "EnginePower_4 = 0.0\n",
      "EnginePower_5 = 0.2\n",
      "EnginePower_6 = 0.2\n",
      "EnginePower_8 = 0.2\n",
      "Janmor_25_Utility = 0.8\n",
      "Laguna_25_Utility = 1.0\n",
      "Mariner_24_Utility = 0.6\n",
      "Maxus_24_Evo_#2_Utility = 1.0\n",
      "Maxus_24_Evo_Utility = 0.0\n",
      "Maxus_24_Utility = 1.0\n",
      "Phobos_24.5_#2_Utility = 0.6\n",
      "Phobos_24.5_Utility = 0.8\n",
      "Phobos_25_#2_Utility = 0.8\n",
      "Phobos_25_Utility = 0.8\n",
      "PricePerDay_190 = 0.2\n",
      "PricePerDay_220 = 0.2\n",
      "PricePerDay_240 = 0.2\n",
      "PricePerDay_250 = 0.2\n",
      "PricePerDay_260 = 0.2\n",
      "PricePerDay_290 = 0.2\n",
      "PricePerDay_300 = 0.2\n",
      "PricePerDay_360 = 0.0\n",
      "PricePerDay_390 = 0.0\n",
      "PricePerDay_400 = 0.0\n",
      "PricePerDay_580 = 0.0\n",
      "SailArea_26 = 0.0\n",
      "SailArea_27 = 0.0\n",
      "SailArea_29 = 0.0\n",
      "SailArea_30 = 0.2\n",
      "SailArea_31 = 0.2\n",
      "SailArea_32 = 0.2\n",
      "SailArea_39 = 0.2\n",
      "Tes_246_Versus_Utility = 0.6\n",
      "Width_249 = 0.0\n",
      "Width_252 = 0.0\n",
      "Width_255 = 0.2\n",
      "Width_270 = 0.2\n",
      "Width_274 = 0.2\n",
      "Width_280 = 0.2\n",
      "Width_286 = 0.2\n",
      "Width_307 = 0.2\n",
      "__dummy = None\n",
      "\n",
      "Objective value: None\n"
     ]
    }
   ],
   "source": [
    "print(f\"Status: {LpStatus[prob.status]}\")\n",
    "print(\"\\nOptimal Solution:\")\n",
    "for var in prob.variables():\n",
    "    print(f\"{var.name} = {value(var)}\")\n",
    "\n",
    "print(\"\\nObjective value:\", value(prob.objective))"
   ]
  },
  {
   "cell_type": "markdown",
   "metadata": {},
   "source": [
    "The solution is optimal thus we found the model which describes appropriately the decision maker's preference information."
   ]
  },
  {
   "cell_type": "code",
   "execution_count": 14,
   "metadata": {},
   "outputs": [
    {
     "data": {
      "image/png": "[encoded data removed]",
      "text/plain": [
       "<Figure size 1500x1000 with 6 Axes>"
      ]
     },
     "metadata": {},
     "output_type": "display_data"
    }
   ],
   "source": [
    "fig, axs = plt.subplots(2, 3, figsize=(15, 10))\n",
    "axs = axs.flatten()\n",
    "temp = [value(PricePerDay_vars[val]) for val in PricePerDay_tab]\n",
    "\n",
    "temp = [(val - min(temp)) / (max(temp) - min(temp) + epsilon) for val in temp]\n",
    "axs[0].plot(PricePerDay_tab, temp)\n",
    "axs[0].set_title(\"PricePerDay\")\n",
    "axs[0].set_xlabel(\"PricePerDay\")\n",
    "axs[0].set_ylabel(\"Utility\")\n",
    "temp = [value(Deposit_vars[val]) for val in Deposit_tab]\n",
    "\n",
    "temp = [(val - min(temp)) / (max(temp) - min(temp) + epsilon) for val in temp]\n",
    "axs[1].plot(Deposit_tab, temp)\n",
    "axs[1].set_title(\"Deposit\")\n",
    "axs[1].set_xlabel(\"Deposit\")\n",
    "axs[1].set_ylabel(\"Utility\")\n",
    "temp = [value(EnginePower_vars[val]) for val in EnginePower_tab]\n",
    "\n",
    "temp = [(val - min(temp)) / (max(temp) - min(temp) + epsilon) for val in temp]\n",
    "axs[2].plot(EnginePower_tab, temp)\n",
    "axs[2].set_title(\"EnginePower\")\n",
    "axs[2].set_xlabel(\"EnginePower\")\n",
    "axs[2].set_ylabel(\"Utility\")\n",
    "temp = [value(SailArea_vars[val]) for val in SailArea_tab]\n",
    "\n",
    "temp = [(val - min(temp)) / (max(temp) - min(temp) + epsilon) for val in temp]\n",
    "axs[3].plot(SailArea_tab, temp)\n",
    "axs[3].set_title(\"SailArea\")\n",
    "axs[3].set_xlabel(\"SailArea\")\n",
    "axs[3].set_ylabel(\"Utility\")\n",
    "temp = [value(Width_vars[val]) for val in Width_tab]\n",
    "\n",
    "temp = [(val - min(temp)) / (max(temp) - min(temp) + epsilon) for val in temp]\n",
    "axs[4].plot(Width_tab, temp)\n",
    "axs[4].set_title(\"Width\")\n",
    "axs[4].set_xlabel(\"Width\") \n",
    "axs[4].set_ylabel(\"Utility\")\n",
    "\n",
    "plt.tight_layout()\n",
    "plt.show()\n"
   ]
  },
  {
   "cell_type": "markdown",
   "metadata": {},
   "source": [
    "The marginal value funtions show how the model evaluates specyfic criterion. For example for cost-type criteria (PricePerDay and Deposit) we can see that maxiamal budget, which the Decision Maker is able to spend according to the model, is 350 for PricePerDay and around 1750 as a Deposit. The criteria Width and Engine Power are not very impoartant for the model, because for almost all values the functions get the highest possible results. The different sitation can be notice in SailArea criterion. Here the model divided values to 2 ranges: one that is not prefered and second which is acceptable."
   ]
  },
  {
   "cell_type": "markdown",
   "metadata": {},
   "source": [
    "# UTA 2.2"
   ]
  },
  {
   "cell_type": "markdown",
   "metadata": {},
   "source": [
    "Having the set of the consistent preference informations we want to maximize the distance between the utility of reference alternatives."
   ]
  },
  {
   "cell_type": "code",
   "execution_count": 15,
   "metadata": {},
   "outputs": [
    {
     "name": "stdout",
     "output_type": "stream",
     "text": [
      "               Name  PricePerDay  Deposit  EnginePower  SailArea  Width\n",
      "0       Antila 24.4          290     1500            4        26    249\n",
      "1      Maxus 24 Evo          360     1700            4        27    252\n",
      "2       Aquatic 25T          260     1400            4        27    252\n",
      "3        Mariner 24          290     1500            5        29    252\n",
      "4         Laguna 25          190     1000            5        30    255\n",
      "5         Phobos 25          300     2000            6        30    255\n",
      "6         Antila 24          220     2000            6        30    255\n",
      "7       Antila 28.8          580     2000            6        30    270\n",
      "8       Phobos 24.5          390     1500            6        30    270\n",
      "9    Antila 24.4 #2          240     1500            6        30    270\n",
      "10     Phobos 25 #2          400     1500            6        30    274\n",
      "11  Maxus 24 Evo #2          300     1500            6        30    280\n",
      "12         Maxus 24          250     1000            6        30    286\n",
      "13   Tes 246 Versus          400     3000            8        31    286\n",
      "14        Janmor 25          250     3000           10        32    286\n",
      "15   Phobos 24.5 #2          360     1700           12        39    307\n"
     ]
    }
   ],
   "source": [
    "prob = LpProblem(\"UTA_Method\", LpMaximize)\n",
    "\n",
    "PricePerDay_vars = {val: LpVariable(f\"PricePerDay_{val}\", lowBound=0, upBound=1) for val in PricePerDay_tab}\n",
    "Deposit_vars = {val: LpVariable(f\"Deposit_{val}\", lowBound=0, upBound=1) for val in Deposit_tab}\n",
    "EnginePower_vars = {val: LpVariable(f\"EnginePower_{val}\", lowBound=0, upBound=1) for val in EnginePower_tab}\n",
    "SailArea_vars = {val: LpVariable(f\"SailArea_{val}\", lowBound=0, upBound=1) for val in SailArea_tab}\n",
    "Width_vars = {val: LpVariable(f\"Width_{val}\", lowBound=0, upBound=1) for val in Width_tab}\n",
    "\n",
    "# Monotonic constraints\n",
    "\n",
    "for i in range(len(PricePerDay_tab) - 1):\n",
    "    prob += PricePerDay_vars[PricePerDay_tab[i]] <= PricePerDay_vars[PricePerDay_tab[i + 1]], f\"Monotonicity_PricePerDay_{i}\"\n",
    "for i in range(len(Deposit_tab) - 1):\n",
    "    prob += Deposit_vars[Deposit_tab[i]] <= Deposit_vars[Deposit_tab[i + 1]], f\"Monotonicity_Deposit_{i}\"\n",
    "for i in range(len(EnginePower_tab) - 1):\n",
    "    prob += EnginePower_vars[EnginePower_tab[i]] <= EnginePower_vars[EnginePower_tab[i + 1]], f\"Monotonicity_EnginePower_{i}\"\n",
    "for i in range(len(SailArea_tab) - 1):\n",
    "    prob += SailArea_vars[SailArea_tab[i]] <= SailArea_vars[SailArea_tab[i + 1]], f\"Monotonicity_SailArea_{i}\"\n",
    "for i in range(len(Width_tab) - 1):\n",
    "    prob += Width_vars[Width_tab[i]] <= Width_vars[Width_tab[i + 1]], f\"Monotonicity_Width_{i}\"\n",
    "\n",
    "# Normalization constraints\n",
    "prob += PricePerDay_vars[PricePerDay_tab[0]] == 0, \"Normalize_PricePerDay_Lowest\"\n",
    "prob += Deposit_vars[Deposit_tab[0]] == 0, \"Normalize_Deposit_Lowest\"\n",
    "prob += EnginePower_vars[EnginePower_tab[0]] == 0, \"Normalize_EnginePower_Lowest\"\n",
    "prob += SailArea_vars[SailArea_tab[0]] == 0, \"Normalize_SailArea_Lowest\"\n",
    "prob += Width_vars[Width_tab[0]] == 0, \"Normalize_Width_Lowest\"\n",
    "prob += PricePerDay_vars[PricePerDay_tab[-1]] + Deposit_vars[Deposit_tab[-1]] + EnginePower_vars[EnginePower_tab[-1]] + SailArea_vars[SailArea_tab[-1]] + Width_vars[Width_tab[-1]] == 1, \"Normalize_Sum_One\"\n",
    "\n",
    "prob += PricePerDay_vars[PricePerDay_tab[-1]] <= 0.5, \"Normalize_PricePerDay_Highest\"\n",
    "prob += Deposit_vars[Deposit_tab[-1]] <= 0.5, \"Normalize_Deposit_Highest\"\n",
    "prob += EnginePower_vars[EnginePower_tab[-1]] <= 0.5, \"Normalize_EnginePower_Highest\"\n",
    "prob += SailArea_vars[SailArea_tab[-1]] <= 0.5, \"Normalize_SailArea_Highest\"\n",
    "prob += Width_vars[Width_tab[-1]] <= 0.5, \"Normalize_Width_Highest\"\n",
    "\n",
    "\n",
    "# additional constraints\n",
    "prob += Deposit_vars[Deposit_tab[-1]] >= 0.2, \"Normalize_Deposit_Highest_1\"\n",
    "prob += PricePerDay_vars[PricePerDay_tab[-1]] >= 0.2, \"Normalize_PricePerDay_Highest_2\"\n",
    "prob += EnginePower_vars[EnginePower_tab[-1]] >= 0.2, \"Normalize_EnginePower_Highest_3\"\n",
    "prob += SailArea_vars[SailArea_tab[-1]] >= 0.2, \"Normalize_SailArea_Highest_4\"\n",
    "prob += Width_vars[Width_tab[-1]] >= 0.2, \"Normalize_Width_Highest_5\"\n",
    "\n",
    "alternatives = df.iloc[:]\n",
    "alternative_utilities = {}\n",
    "\n",
    "for index, row in alternatives.iterrows():\n",
    "    name = row[\"Name\"]\n",
    "    \n",
    "    utility_var = LpVariable(f\"{name}_Utility\", lowBound=0)\n",
    "    alternative_utilities[name] = utility_var\n",
    "\n",
    "\n",
    "    prob += utility_var == lpSum([\n",
    "        PricePerDay_vars[row[\"PricePerDay\"]],\n",
    "        Deposit_vars[row[\"Deposit\"]],\n",
    "        EnginePower_vars[row[\"EnginePower\"]],\n",
    "        SailArea_vars[row[\"SailArea\"]],\n",
    "        Width_vars[row[\"Width\"]]\n",
    "    ]), f\"Utility_{name}\"\n",
    "\n",
    "\n",
    "\n",
    "\n",
    "print(alternatives)"
   ]
  },
  {
   "cell_type": "markdown",
   "metadata": {},
   "source": [
    "Initialization of the preference information and epsilon variables."
   ]
  },
  {
   "cell_type": "code",
   "execution_count": 16,
   "metadata": {},
   "outputs": [],
   "source": [
    "eps_1 = LpVariable(\"eps_1\", lowBound=0)\n",
    "eps_2 = LpVariable(\"eps_2\", lowBound=0)\n",
    "eps_5 = LpVariable(\"eps_5\", lowBound=0)\n",
    "\n",
    "\n",
    "prob += alternative_utilities[\"Laguna 25\"] >= alternative_utilities[\"Antila 24.4\"] + eps_1, \"Pref_1\"\n",
    "prob += alternative_utilities[\"Antila 24.4\"] >= alternative_utilities[\"Maxus 24 Evo\"] + eps_2, \"Pref_2\"\n",
    "prob += alternative_utilities[\"Phobos 25 #2\"] >= alternative_utilities[\"Phobos 24.5 #2\"] + eps_5, \"Pref_5\"\n"
   ]
  },
  {
   "cell_type": "markdown",
   "metadata": {},
   "source": [
    "We want to maximize objective function to get the gighest possible distance between the utility of reference between alternatives"
   ]
  },
  {
   "cell_type": "code",
   "execution_count": 17,
   "metadata": {},
   "outputs": [],
   "source": [
    "# objefctive function\n",
    "prob += lpSum([eps_1, eps_2, eps_5])"
   ]
  },
  {
   "cell_type": "code",
   "execution_count": 18,
   "metadata": {},
   "outputs": [
    {
     "name": "stdout",
     "output_type": "stream",
     "text": [
      "Welcome to the CBC MILP Solver \n",
      "Version: 2.10.3 \n",
      "Build Date: Dec 15 2019 \n",
      "\n",
      "command line - /home/wojtek/Documents/uczelnia/decision_analysis/yachts-MCDM/.venv/lib/python3.13/site-packages/pulp/apis/../solverdir/cbc/linux/i64/cbc /tmp/4d2e20bfb75d4c65894dc1655a98fb1c-pulp.mps -max -timeMode elapsed -branch -printingOptions all -solution /tmp/4d2e20bfb75d4c65894dc1655a98fb1c-pulp.sol (default strategy 1)\n",
      "At line 2 NAME          MODEL\n",
      "At line 3 ROWS\n",
      "At line 115 COLUMNS\n",
      "At line 352 RHS\n",
      "At line 463 BOUNDS\n",
      "At line 502 ENDATA\n",
      "Problem MODEL has 110 rows, 57 columns and 191 elements\n",
      "Coin0008I MODEL read with 0 errors\n",
      "Option for timeMode changed from cpu to elapsed\n",
      "Presolve 2 (-108) rows, 4 (-53) columns and 6 (-185) elements\n",
      "0  Obj 0 Dual inf 2.999997 (3)\n",
      "3  Obj 1.2\n",
      "Optimal - objective value 1.2\n",
      "After Postsolve, objective 1.2, infeasibilities - dual 0 (0), primal 0 (0)\n",
      "Optimal objective 1.2 - 3 iterations time 0.002, Presolve 0.00\n",
      "Option for printingOptions changed from normal to all\n",
      "Total time (CPU seconds):       0.00   (Wallclock seconds):       0.00\n",
      "\n"
     ]
    },
    {
     "data": {
      "text/plain": [
       "1"
      ]
     },
     "execution_count": 18,
     "metadata": {},
     "output_type": "execute_result"
    }
   ],
   "source": [
    "prob.solve()"
   ]
  },
  {
   "cell_type": "code",
   "execution_count": 19,
   "metadata": {},
   "outputs": [
    {
     "name": "stdout",
     "output_type": "stream",
     "text": [
      "Status: Optimal\n",
      "\n",
      "Optimal Solution:\n",
      "Antila_24.4_#2_Utility = 1.0\n",
      "Antila_24.4_Utility = 0.4\n",
      "Antila_24_Utility = 0.8\n",
      "Antila_28.8_Utility = 0.6\n",
      "Aquatic_25T_Utility = 0.4\n",
      "Deposit_1000 = 0.2\n",
      "Deposit_1400 = 0.2\n",
      "Deposit_1500 = 0.2\n",
      "Deposit_1700 = 0.0\n",
      "Deposit_2000 = 0.0\n",
      "Deposit_3000 = 0.0\n",
      "EnginePower_10 = 0.2\n",
      "EnginePower_12 = 0.2\n",
      "EnginePower_4 = 0.0\n",
      "EnginePower_5 = 0.2\n",
      "EnginePower_6 = 0.2\n",
      "EnginePower_8 = 0.2\n",
      "Janmor_25_Utility = 0.8\n",
      "Laguna_25_Utility = 1.0\n",
      "Mariner_24_Utility = 0.6\n",
      "Maxus_24_Evo_#2_Utility = 0.8\n",
      "Maxus_24_Evo_Utility = 0.0\n",
      "Maxus_24_Utility = 1.0\n",
      "Phobos_24.5_#2_Utility = 0.6\n",
      "Phobos_24.5_Utility = 0.8\n",
      "Phobos_25_#2_Utility = 0.8\n",
      "Phobos_25_Utility = 0.6\n",
      "PricePerDay_190 = 0.2\n",
      "PricePerDay_220 = 0.2\n",
      "PricePerDay_240 = 0.2\n",
      "PricePerDay_250 = 0.2\n",
      "PricePerDay_260 = 0.2\n",
      "PricePerDay_290 = 0.2\n",
      "PricePerDay_300 = 0.0\n",
      "PricePerDay_360 = 0.0\n",
      "PricePerDay_390 = -0.0\n",
      "PricePerDay_400 = 0.0\n",
      "PricePerDay_580 = 0.0\n",
      "SailArea_26 = 0.0\n",
      "SailArea_27 = 0.0\n",
      "SailArea_29 = 0.0\n",
      "SailArea_30 = 0.2\n",
      "SailArea_31 = 0.2\n",
      "SailArea_32 = 0.2\n",
      "SailArea_39 = 0.2\n",
      "Tes_246_Versus_Utility = 0.6\n",
      "Width_249 = 0.0\n",
      "Width_252 = 0.0\n",
      "Width_255 = 0.2\n",
      "Width_270 = 0.2\n",
      "Width_274 = 0.2\n",
      "Width_280 = 0.2\n",
      "Width_286 = 0.2\n",
      "Width_307 = 0.2\n",
      "eps_1 = 0.6\n",
      "eps_2 = 0.4\n",
      "eps_5 = 0.2\n",
      "\n",
      "Objective value: 1.2\n"
     ]
    }
   ],
   "source": [
    "print(f\"Status: {LpStatus[prob.status]}\")\n",
    "print(\"\\nOptimal Solution:\")\n",
    "for var in prob.variables():\n",
    "    print(f\"{var.name} = {value(var)}\")\n",
    "\n",
    "print(\"\\nObjective value:\", value(prob.objective))"
   ]
  },
  {
   "cell_type": "code",
   "execution_count": 20,
   "metadata": {},
   "outputs": [
    {
     "data": {
      "image/png": "[encoded data removed]",
      "text/plain": [
       "<Figure size 1500x1000 with 6 Axes>"
      ]
     },
     "metadata": {},
     "output_type": "display_data"
    }
   ],
   "source": [
    "fig, axs = plt.subplots(2, 3, figsize=(15, 10))\n",
    "axs = axs.flatten()\n",
    "temp = [value(PricePerDay_vars[val]) for val in PricePerDay_tab]\n",
    "\n",
    "temp = [(val - min(temp)) / (max(temp) - min(temp) + epsilon) for val in temp]\n",
    "axs[0].plot(PricePerDay_tab, temp)\n",
    "axs[0].set_title(\"PricePerDay\")\n",
    "axs[0].set_xlabel(\"PricePerDay\")\n",
    "axs[0].set_ylabel(\"Utility\")\n",
    "temp = [value(Deposit_vars[val]) for val in Deposit_tab]\n",
    "\n",
    "temp = [(val - min(temp)) / (max(temp) - min(temp) + epsilon) for val in temp]\n",
    "axs[1].plot(Deposit_tab, temp)\n",
    "axs[1].set_title(\"Deposit\")\n",
    "axs[1].set_xlabel(\"Deposit\")\n",
    "axs[1].set_ylabel(\"Utility\")\n",
    "temp = [value(EnginePower_vars[val]) for val in EnginePower_tab]\n",
    "\n",
    "temp = [(val - min(temp)) / (max(temp) - min(temp) + epsilon) for val in temp]\n",
    "axs[2].plot(EnginePower_tab, temp)\n",
    "axs[2].set_title(\"EnginePower\")\n",
    "axs[2].set_xlabel(\"EnginePower\")\n",
    "axs[2].set_ylabel(\"Utility\")\n",
    "temp = [value(SailArea_vars[val]) for val in SailArea_tab]\n",
    "\n",
    "temp = [(val - min(temp)) / (max(temp) - min(temp) + epsilon) for val in temp]\n",
    "axs[3].plot(SailArea_tab, temp)\n",
    "axs[3].set_title(\"SailArea\")\n",
    "axs[3].set_xlabel(\"SailArea\")\n",
    "axs[3].set_ylabel(\"Utility\")\n",
    "temp = [value(Width_vars[val]) for val in Width_tab]\n",
    "\n",
    "temp = [(val - min(temp)) / (max(temp) - min(temp) + epsilon) for val in temp]\n",
    "axs[4].plot(Width_tab, temp)\n",
    "axs[4].set_title(\"Width\")\n",
    "axs[4].set_xlabel(\"Width\") \n",
    "axs[4].set_ylabel(\"Utility\")\n",
    "\n",
    "plt.tight_layout()\n",
    "plt.show()\n"
   ]
  },
  {
   "cell_type": "markdown",
   "metadata": {},
   "source": [
    "As we can see after the maximization the distance between the utility of refernce alternatives, the critarion PricePerDay changed. However the other cirteria seems to stay uchanged."
   ]
  },
  {
   "cell_type": "markdown",
   "metadata": {},
   "source": [
    "![](./plots/uta.png)"
   ]
  },
  {
   "cell_type": "markdown",
   "metadata": {},
   "source": [
    "![](./plots/prometheeII.png)\n"
   ]
  }
 ],
 "metadata": {
  "kernelspec": {
   "display_name": ".venv",
   "language": "python",
   "name": "python3"
  },
  "language_info": {
   "codemirror_mode": {
    "name": "ipython",
    "version": 3
   },
   "file_extension": ".py",
   "mimetype": "text/x-python",
   "name": "python",
   "nbconvert_exporter": "python",
   "pygments_lexer": "ipython3",
   "version": "3.13.2"
  }
 },
 "nbformat": 4,
 "nbformat_minor": 2
}
