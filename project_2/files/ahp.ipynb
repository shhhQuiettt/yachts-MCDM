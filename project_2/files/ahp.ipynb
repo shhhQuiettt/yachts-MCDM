{
 "cells": [
  {
   "cell_type": "markdown",
   "id": "e7e3f8b9-fe2d-4140-8cda-10f1f84c4db1",
   "metadata": {},
   "source": [
    "# AHP"
   ]
  },
  {
   "cell_type": "code",
   "execution_count": 6,
   "id": "9fb99094-60f6-48db-8471-60ba12a8ea26",
   "metadata": {},
   "outputs": [],
   "source": [
    "import pandas as pd\n",
    "import numpy as np\n",
    "from ahp import get_priorities, get_relative_consistency_index, recreate_consistent_matrix\n",
    "from pathlib import Path\n",
    "import sys"
   ]
  },
  {
   "cell_type": "markdown",
   "id": "7eb096bd-7e6b-47c2-b89e-1ae5bc7859c6",
   "metadata": {},
   "source": [
    "## The hierarchy and the obtained weights"
   ]
  },
  {
   "cell_type": "code",
   "execution_count": 40,
   "id": "8285a162-2d99-4d31-83f1-df1107c68749",
   "metadata": {},
   "outputs": [
    {
     "name": "stdout",
     "output_type": "stream",
     "text": [
      "------------- Example (inconsistent) Comparison Matrix --------------------\n",
      "[[1.         9.         4.        ]\n",
      " [0.11111111 1.         0.16666667]\n",
      " [0.25       6.         1.        ]]\n",
      "------------- After making it consistent -------------\n",
      "[[ 1.         12.48050294  2.88449914]\n",
      " [ 0.08012498  1.          0.23112042]\n",
      " [ 0.34668064  4.32674871  1.        ]]\n",
      "The biggest discrapency between: EnginePower and Width\n",
      "DM value: 6.0\n",
      "Value after making it consistent: 4.326748710922227\n"
     ]
    }
   ],
   "source": [
    "\n",
    "hierarchy = [\"comparisons_category.csv\", \"comparisons_type.csv\", \"comparisons_alternatives.csv\"]\n",
    "\n",
    "datadir = \"../dataset/ahp\"\n",
    "\n",
    "weights = {}\n",
    "for file_id, file in enumerate(hierarchy):\n",
    "    data = pd.read_csv(Path(datadir).joinpath(file))\n",
    "\n",
    "    # Generating pairwise comparison matrix\n",
    "    for parent in data.parent.unique():\n",
    "        comparisons = pd.DataFrame(data.loc[data[\"parent\"] == parent, :])\n",
    "        unique_elements = list(set(comparisons[\"Element1\"].unique().tolist() + comparisons[\"Element2\"].unique().tolist()))\n",
    "\n",
    "        pairwise_comparisons = pd.DataFrame(index=unique_elements, columns=unique_elements)\n",
    "\n",
    "\n",
    "        for element in unique_elements:\n",
    "            pairwise_comparisons.at[element, element] = 1.0\n",
    "        for comparison_id in comparisons.index:\n",
    "            el1 = comparisons.at[comparison_id, \"Element1\"]\n",
    "            el2 = comparisons.at[comparison_id, \"Element2\"]\n",
    "            judgement = comparisons.at[comparison_id, \"Judgement\"]\n",
    "            pairwise_comparisons.at[el1, el2] = float(judgement)\n",
    "            pairwise_comparisons.at[el2, el1]  = 1 / float(judgement)\n",
    "\n",
    "\n",
    "        comparison_matrix_raw = pairwise_comparisons.to_numpy(dtype=float)\n",
    "        assert not np.isnan(comparison_matrix_raw).any()\n",
    "        priorities = get_priorities(comparison_matrix_raw)\n",
    "        relative_consistency_index = get_relative_consistency_index(comparison_matrix_raw)\n",
    "        if relative_consistency_index > 0.1:\n",
    "            raise ValueError(f\"Oh no :((( the matrix is too inconsistent RI = {relative_consistency_index}\")\n",
    "            \n",
    "        # print(comparisons.columns)\n",
    "        if file_id == 1 and relative_consistency_index > 0:\n",
    "            print(\"------------- Example (inconsistent) Comparison Matrix --------------------\")\n",
    "            print(comparison_matrix_raw)\n",
    "\n",
    "            print(\"------------- After making it consistent -------------\")\n",
    "            reconstructed = recreate_consistent_matrix(priorities)\n",
    "            print(reconstructed)\n",
    "\n",
    "            difference = comparison_matrix_raw - reconstructed\n",
    "            row_id, col_id = np.unravel_index(np.argmax(difference), difference.shape)\n",
    "            el1, el2 = pairwise_comparisons.columns[row_id] , pairwise_comparisons.columns[col_id]\n",
    "\n",
    "            print(f\"The biggest discrapency between: {el1} and {el2}\")\n",
    "            print(f\"DM value: {pairwise_comparisons.at[el1, el2]}\")\n",
    "            print(f\"Value after making it consistent: {reconstructed[row_id,col_id]}\")\n",
    "            \n",
    "            \n",
    "        \n",
    "        for element_id in range(len(pairwise_comparisons.index)):\n",
    "            element =  pairwise_comparisons.index[element_id]\n",
    "            weights[element] = priorities[element_id].item()\n",
    "         \n",
    "\n",
    "        "
   ]
  },
  {
   "cell_type": "code",
   "execution_count": 22,
   "id": "edfcb08a-3312-46e1-88c6-7c7e9ceef2fc",
   "metadata": {},
   "outputs": [
    {
     "name": "stdout",
     "output_type": "stream",
     "text": [
      "                 PricePerDay  Deposit  EnginePower  SailArea  Width     score\n",
      "Name                                                                         \n",
      "Laguna 25                190     1000            6        29    274  0.205511\n",
      "Maxus 24                 250     1000            6        27    255  0.132799\n",
      "Antila 24                220     2000            4        27    270  0.132643\n",
      "Antila 24.4 #2           240     1500            6        30    270  0.112955\n",
      "Aquatic 25T              260     1400            5        31    280  0.110620\n",
      "Janmor 25                250     3000            6        30    286  0.102568\n",
      "Antila 24.4              290     1500            6        30    270  0.096458\n",
      "Mariner 24               290     1500            4        26    252  0.090382\n",
      "Maxus 24 Evo #2          300     1500            6        30    255  0.079154\n",
      "Phobos 25                300     2000            6        30    286  0.075675\n",
      "Antila 28.8              580     2000           10        39    307  0.074856\n",
      "Maxus 24 Evo             360     1700            8        30    255  0.065875\n",
      "Tes 246 Versus           400     3000           12        32    249  0.062864\n",
      "Phobos 24.5 #2           360     1700            5        30    252  0.062461\n",
      "Phobos 24.5              390     1500            4        30    252  0.056438\n",
      "Phobos 25 #2             400     1500            6        30    286  0.051376\n"
     ]
    }
   ],
   "source": [
    "hierarchy=pd.read_csv(Path(datadir).joinpath(\"hierarchy.csv\"))\n",
    "\n",
    "datapoints = pd.read_csv(Path(datadir).joinpath(\"dataset.csv\"), index_col=0)\n",
    "\n",
    "#copy result but add column score\n",
    "result = datapoints.copy()\n",
    "result[\"score\"] = np.nan\n",
    "\n",
    "\n",
    "for name, datapoint in datapoints.iterrows():\n",
    "    score_comprehensive = 0.0\n",
    "\n",
    "    for parent in datapoint.index:\n",
    "        score_feature = 1.0\n",
    "        \n",
    "        element = datapoint[parent]\n",
    "        score_feature *= weights[element]\n",
    "\n",
    "        element = parent\n",
    "        i = 0\n",
    "        while True:\n",
    "            score_feature *= weights[element]\n",
    "\n",
    "            if i == len(hierarchy.columns) - 1:\n",
    "                break\n",
    "\n",
    "            curr_col_name = hierarchy.columns[i]\n",
    "            next_col_name = hierarchy.columns[i+1] if i < len(hierarchy.columns) else None\n",
    "\n",
    "            element = hierarchy.loc[hierarchy[curr_col_name] == element, next_col_name].values[0]\n",
    "            i+=1\n",
    "\n",
    "        score_comprehensive += score_feature\n",
    "\n",
    "    result.at[name, \"score\"] = score_comprehensive\n",
    "\n",
    "print(result.sort_values(by=\"score\", ascending=False))"
   ]
  },
  {
   "cell_type": "markdown",
   "id": "55e79573-565b-473c-ae21-d95cf3b1c0f5",
   "metadata": {},
   "source": [
    "We can see that rather cheap boats are higher in the ranking as the DM put great weight on this criterion (Money to Technical - 6, PricePerDay - Deposit -> 8)\n",
    "\n",
    "Laguna 25 is the highest-ranked boat, likely due to a favorable balance of low price per day, reasonable deposit, decent engine power, sail area, and width.\n",
    "\n",
    "The Phobos 25 #2 and Phobos 24.5rank lowest, likely due to high costs relative to their features.\n",
    "\n",
    "What is interesting is that thee Antila 28.8 has the highest EnginePower and SailArea but ranks poorly due to its high price (580 per day) and deposit."
   ]
  },
  {
   "cell_type": "markdown",
   "id": "a32c0ff4-9ef5-4434-bbaf-b515d9a52ba8",
   "metadata": {},
   "source": [
    "## AHP and UTA results comparison"
   ]
  },
  {
   "cell_type": "markdown",
   "id": "70bc5b47",
   "metadata": {},
   "source": [
    "Kendall's tau: 0.3167\n",
    "Kendall's distance: 82"
   ]
  },
  {
   "cell_type": "markdown",
   "id": "5c3cb0a4",
   "metadata": {},
   "source": [
    "![](./../plots/uta.png)"
   ]
  },
  {
   "cell_type": "markdown",
   "id": "5f43b27b",
   "metadata": {},
   "source": [
    "![](./../plots/prometheeII.png)"
   ]
  },
  {
   "cell_type": "markdown",
   "id": "d6f5ea8c",
   "metadata": {},
   "source": [
    "![](./../plots/prometheeI.png)"
   ]
  },
  {
   "cell_type": "markdown",
   "id": "a011824b",
   "metadata": {},
   "source": [
    "![](./../plots/ahp.png)"
   ]
  },
  {
   "cell_type": "markdown",
   "id": "8a5b03ac",
   "metadata": {},
   "source": [
    "The results from all methods highlighted that Languna 25 is the best choice. This decision is likely due to its lowest price-per-day value compared to the other alternatives. It also accurately reflects reality, as the decision maker is a student—well known for having limited financial resources. However, a difference can be observed in the last position according to the UTA method, which might be due to incomplete or not fully defined preference information.    "
   ]
  }
 ],
 "metadata": {
  "kernelspec": {
   "display_name": ".venv",
   "language": "python",
   "name": "python3"
  },
  "language_info": {
   "codemirror_mode": {
    "name": "ipython",
    "version": 3
   },
   "file_extension": ".py",
   "mimetype": "text/x-python",
   "name": "python",
   "nbconvert_exporter": "python",
   "pygments_lexer": "ipython3",
   "version": "3.13.2"
  }
 },
 "nbformat": 4,
 "nbformat_minor": 5
}
